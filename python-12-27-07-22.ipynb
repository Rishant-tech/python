{
 "cells": [
  {
   "cell_type": "code",
   "execution_count": 38,
   "id": "c3bab8e8",
   "metadata": {},
   "outputs": [],
   "source": [
    "# wap to find the average marks of a student in 3 subject using inheritance\n",
    "# and for finding the avg marks make a function for avg marks and try to get th eoutput\n",
    "\n",
    "class subject:\n",
    "    def __init__(self,a,b,c):\n",
    "        self.a=a\n",
    "        self.b=b\n",
    "        self.c=c\n",
    "class student(subject):\n",
    "    def __init__(self,a,b,c):\n",
    "        super().__init__(a,b,c)\n",
    "#         self.avg=avg\n",
    "    def av(self):\n",
    "        avg=(self.a+self.b+self.c)/3\n",
    "        return \"The average marks of the 3 subjects is : \"+str(avg)\n"
   ]
  },
  {
   "cell_type": "code",
   "execution_count": 39,
   "id": "dcaaa240",
   "metadata": {},
   "outputs": [],
   "source": [
    "s=student(20,30,40)"
   ]
  },
  {
   "cell_type": "code",
   "execution_count": 40,
   "id": "6c14406f",
   "metadata": {},
   "outputs": [
    {
     "data": {
      "text/plain": [
       "'The average marks of the 3 subjects is : 30.0'"
      ]
     },
     "execution_count": 40,
     "metadata": {},
     "output_type": "execute_result"
    }
   ],
   "source": [
    "s.av()"
   ]
  },
  {
   "cell_type": "markdown",
   "id": "6dea075d",
   "metadata": {},
   "source": [
    "# multi-level inheritance"
   ]
  },
  {
   "cell_type": "code",
   "execution_count": 41,
   "id": "e47d63ca",
   "metadata": {},
   "outputs": [],
   "source": [
    "# inheritance form gp to parent\n",
    "class a:\n",
    "    def __init__(self,emp_name):\n",
    "        self.emp_name=emp_name\n",
    "            \n",
    "class b(a):\n",
    "    def __init__(self,emp_name,age):\n",
    "        super().__init__(emp_name)\n",
    "        self.age=age\n",
    "    \n",
    "class c:\n",
    "    def __init__(self,sal):\n",
    "        self.sal=sal\n",
    "    \n",
    "bb=b(\"Rishant\",21)"
   ]
  },
  {
   "cell_type": "code",
   "execution_count": 43,
   "id": "f59c6f81",
   "metadata": {},
   "outputs": [
    {
     "data": {
      "text/plain": [
       "'Rishant'"
      ]
     },
     "execution_count": 43,
     "metadata": {},
     "output_type": "execute_result"
    }
   ],
   "source": [
    "bb.emp_name"
   ]
  },
  {
   "cell_type": "code",
   "execution_count": 44,
   "id": "22e4020c",
   "metadata": {},
   "outputs": [
    {
     "data": {
      "text/plain": [
       "21"
      ]
     },
     "execution_count": 44,
     "metadata": {},
     "output_type": "execute_result"
    }
   ],
   "source": [
    "bb.age"
   ]
  },
  {
   "cell_type": "code",
   "execution_count": 48,
   "id": "7362f24b",
   "metadata": {},
   "outputs": [],
   "source": [
    "# inheritance from parent to child\n",
    "\n",
    "class a:\n",
    "    def __init__(self,emp_name):\n",
    "        self.emp_name=emp_name\n",
    "            \n",
    "class b:\n",
    "    def __init__(self,age):\n",
    "        self.age=age\n",
    "    \n",
    "class c(b):\n",
    "    def __init__(self,age,sal):\n",
    "        super().__init__(age)\n",
    "        self.sal=sal\n",
    "cc=c(21,0)"
   ]
  },
  {
   "cell_type": "code",
   "execution_count": 49,
   "id": "5ec2719b",
   "metadata": {},
   "outputs": [
    {
     "data": {
      "text/plain": [
       "21"
      ]
     },
     "execution_count": 49,
     "metadata": {},
     "output_type": "execute_result"
    }
   ],
   "source": [
    "cc.age"
   ]
  },
  {
   "cell_type": "code",
   "execution_count": 50,
   "id": "2ad7b681",
   "metadata": {},
   "outputs": [
    {
     "data": {
      "text/plain": [
       "0"
      ]
     },
     "execution_count": 50,
     "metadata": {},
     "output_type": "execute_result"
    }
   ],
   "source": [
    "cc.sal"
   ]
  },
  {
   "cell_type": "code",
   "execution_count": 51,
   "id": "0cf19b1e",
   "metadata": {},
   "outputs": [],
   "source": [
    "# inheritance from grandparent to child\n",
    "\n",
    "class a:\n",
    "    def __init__(self,emp_name):\n",
    "        self.emp_name=emp_name\n",
    "            \n",
    "class b:\n",
    "    def __init__(self,age):\n",
    "        self.age=age\n",
    "    \n",
    "class c(a):\n",
    "    def __init__(self,emp_name,sal):\n",
    "        super().__init__(emp_name)\n",
    "        self.sal=sal\n",
    "cc=c(\"Rishant\",0)"
   ]
  },
  {
   "cell_type": "code",
   "execution_count": 53,
   "id": "5786750f",
   "metadata": {},
   "outputs": [
    {
     "data": {
      "text/plain": [
       "'Rishant'"
      ]
     },
     "execution_count": 53,
     "metadata": {},
     "output_type": "execute_result"
    }
   ],
   "source": [
    "cc.emp_name"
   ]
  },
  {
   "cell_type": "code",
   "execution_count": 60,
   "id": "d3bc3edc",
   "metadata": {},
   "outputs": [],
   "source": [
    "# inheritance from grandparent to parent to child\n",
    "\n",
    "class a:\n",
    "    def __init__(self,emp_name):\n",
    "        self.emp_name=emp_name\n",
    "            \n",
    "class b(a):\n",
    "    def __init__(self,emp_name,age):\n",
    "        super().__init__(emp_name)\n",
    "        self.age=age\n",
    "    \n",
    "class c(b):\n",
    "    def __init__(self,emp_name,age,sal):\n",
    "        super().__init__(emp_name,age)\n",
    "        self.sal=sal\n",
    "cc=c(\"Rishant\",21,0)"
   ]
  },
  {
   "cell_type": "code",
   "execution_count": 61,
   "id": "2d49c330",
   "metadata": {},
   "outputs": [
    {
     "data": {
      "text/plain": [
       "'Rishant'"
      ]
     },
     "execution_count": 61,
     "metadata": {},
     "output_type": "execute_result"
    }
   ],
   "source": [
    "cc.emp_name"
   ]
  },
  {
   "cell_type": "code",
   "execution_count": 62,
   "id": "9fc636f9",
   "metadata": {},
   "outputs": [
    {
     "data": {
      "text/plain": [
       "21"
      ]
     },
     "execution_count": 62,
     "metadata": {},
     "output_type": "execute_result"
    }
   ],
   "source": [
    "cc.age"
   ]
  },
  {
   "cell_type": "code",
   "execution_count": 63,
   "id": "25672b2f",
   "metadata": {},
   "outputs": [
    {
     "data": {
      "text/plain": [
       "0"
      ]
     },
     "execution_count": 63,
     "metadata": {},
     "output_type": "execute_result"
    }
   ],
   "source": [
    "cc.sal"
   ]
  },
  {
   "cell_type": "code",
   "execution_count": 90,
   "id": "021fc219",
   "metadata": {},
   "outputs": [],
   "source": [
    "# wap to find the salary of the engineer and a doctor but there is simpel condition for their salaries\n",
    "# conditions are# if a engineer take holidays more than 12 in a year then there will be a deduction of 12%\n",
    "# of salary and if doc takes same amount of holidays there is no deduction at all.\n",
    "# but a doc salary is deducted by 2% if he takes holidays on sunday\n",
    "# now the salary of engineer is 5 lpa while the salary of doc is 6lpa\n",
    "# find the salary after deduction using oops\n",
    "\n",
    "\n",
    "\n",
    "class salary:\n",
    "    def engineer(self):\n",
    "        h=int(input(\"Your salary is 5 lpa if you have taken any off enter : \"))\n",
    "        if h>12:\n",
    "            print(5-((5*12)/100))\n",
    "        else:\n",
    "            print(\"Not deduction at all!! \")\n",
    "        \n",
    "    def doctor(self):\n",
    "        h=int(input(\"Your salary is 6 lpa if you have taken any off on sunday enter : \"))\n",
    "        if h>0:\n",
    "            print(6-((6*2)/100))\n",
    "        else:\n",
    "            print(\"No deduction at all!!\")\n",
    "        \n",
    "        \n"
   ]
  },
  {
   "cell_type": "code",
   "execution_count": 91,
   "id": "df12b4d2",
   "metadata": {},
   "outputs": [],
   "source": [
    "s=salary()"
   ]
  },
  {
   "cell_type": "code",
   "execution_count": 92,
   "id": "1832ed15",
   "metadata": {},
   "outputs": [
    {
     "name": "stdout",
     "output_type": "stream",
     "text": [
      "Your salary is 5 lpa if you have taken any off enter : 3\n",
      "Not deduction at all!! \n"
     ]
    }
   ],
   "source": [
    "s.engineer()"
   ]
  },
  {
   "cell_type": "code",
   "execution_count": 93,
   "id": "96759732",
   "metadata": {},
   "outputs": [
    {
     "name": "stdout",
     "output_type": "stream",
     "text": [
      "Your salary is 6 lpa if you have taken any off on sunday enter : 4\n",
      "5.88\n"
     ]
    }
   ],
   "source": [
    "s.doctor()\n"
   ]
  },
  {
   "cell_type": "code",
   "execution_count": 85,
   "id": "37a3436b",
   "metadata": {},
   "outputs": [],
   "source": [
    "class engineer:\n",
    "    def __init__(self):\n",
    "        self.sal_e=5 \n",
    "        self.off=int(input(\"You are a engneer and your salary is 5 lpa, enter no. of leave you have taken : \"))\n",
    "        \n",
    "    def pay_e(self):\n",
    "        if self.off>12:\n",
    "            print(\"Your salary after deduction : \"+str(5-((5*12)/100))+\" lpa\")\n",
    "        else:\n",
    "            print(\"Hurray!! Not deduction at all, you will get 5 lpa\")\n",
    "        \n",
    "class doctor(engineer):\n",
    "    def __init__(self):\n",
    "        super().__init__()\n",
    "        self.sal_d=6\n",
    "        self.sun_d=int(input(\"You are a Doctor and your salary is 6 lpa, enter no. of leaves on sunday, you have taken : \"))\n",
    "        print('To get salary of Engineer call : pay_e')\n",
    "        print('To get salary of Doctor call : pay_d')\n",
    "    def pay_d(self):\n",
    "        if self.sun_d>0:\n",
    "            print(\"Your salary after deduction : \"+str(6-((6*2)/100))+\" lpa\")\n",
    "        else:\n",
    "            print(\"Hurray!! No deduction at all, You will get 6 lpa\")\n",
    "        \n",
    "\n",
    "        \n",
    "\n"
   ]
  },
  {
   "cell_type": "code",
   "execution_count": 86,
   "id": "bb2103f0",
   "metadata": {},
   "outputs": [
    {
     "name": "stdout",
     "output_type": "stream",
     "text": [
      "You are a engneer and your salary is 5 lpa, enter no. of leave you have taken : 13\n",
      "You are a Doctor and your salary is 6 lpa, enter no. of leaves on sunday, you have taken : 2\n",
      "To get salary of Engineer call : pay_e\n",
      "To get salary of Doctor call : pay_d\n"
     ]
    }
   ],
   "source": [
    "d=doctor()"
   ]
  },
  {
   "cell_type": "code",
   "execution_count": 87,
   "id": "04ac9364",
   "metadata": {},
   "outputs": [
    {
     "name": "stdout",
     "output_type": "stream",
     "text": [
      "Your salary after deduction : 4.4 lpa\n"
     ]
    }
   ],
   "source": [
    "d.pay_e()"
   ]
  },
  {
   "cell_type": "code",
   "execution_count": 89,
   "id": "cc9dd261",
   "metadata": {},
   "outputs": [
    {
     "name": "stdout",
     "output_type": "stream",
     "text": [
      "Your salary after deduction : 5.88 lpa\n"
     ]
    }
   ],
   "source": [
    "d.pay_d()"
   ]
  },
  {
   "cell_type": "code",
   "execution_count": null,
   "id": "4bd09a15",
   "metadata": {},
   "outputs": [],
   "source": []
  }
 ],
 "metadata": {
  "kernelspec": {
   "display_name": "Python 3 (ipykernel)",
   "language": "python",
   "name": "python3"
  },
  "language_info": {
   "codemirror_mode": {
    "name": "ipython",
    "version": 3
   },
   "file_extension": ".py",
   "mimetype": "text/x-python",
   "name": "python",
   "nbconvert_exporter": "python",
   "pygments_lexer": "ipython3",
   "version": "3.9.12"
  }
 },
 "nbformat": 4,
 "nbformat_minor": 5
}
