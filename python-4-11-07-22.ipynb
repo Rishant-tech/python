{
 "cells": [
  {
   "cell_type": "markdown",
   "id": "adb6ad74",
   "metadata": {},
   "source": [
    "# data collection:\n"
   ]
  },
  {
   "cell_type": "code",
   "execution_count": 1,
   "id": "835172bb",
   "metadata": {},
   "outputs": [],
   "source": [
    "# what is data?\n",
    "# data is everything\n",
    "# unuseful until and unless it is processed to find insights.\n"
   ]
  },
  {
   "cell_type": "markdown",
   "id": "ebf52cbc",
   "metadata": {},
   "source": [
    "# 1-list 2-tuple 3-dictionary 4-set "
   ]
  },
  {
   "cell_type": "markdown",
   "id": "ea91a52d",
   "metadata": {},
   "source": [
    "# list: data store\n",
    " # syntax:\n",
    " # x=[]\n",
    " # type(x)"
   ]
  },
  {
   "cell_type": "code",
   "execution_count": 4,
   "id": "471c43fd",
   "metadata": {},
   "outputs": [],
   "source": [
    "x = [212,2121,3,4,5,6,4,-2,3.4,'d','f','d']"
   ]
  },
  {
   "cell_type": "code",
   "execution_count": 5,
   "id": "8a4f2719",
   "metadata": {},
   "outputs": [
    {
     "name": "stdout",
     "output_type": "stream",
     "text": [
      "[212, 2121, 3, 4, 5, 6, 4, -2, 3.4, 'd', 'f', 'd']\n"
     ]
    }
   ],
   "source": [
    "print(x)"
   ]
  },
  {
   "cell_type": "code",
   "execution_count": 6,
   "id": "d57a5133",
   "metadata": {},
   "outputs": [
    {
     "data": {
      "text/plain": [
       "list"
      ]
     },
     "execution_count": 6,
     "metadata": {},
     "output_type": "execute_result"
    }
   ],
   "source": [
    "type(x)"
   ]
  },
  {
   "cell_type": "code",
   "execution_count": 7,
   "id": "993a14a0",
   "metadata": {},
   "outputs": [],
   "source": [
    "# slicing with index of list"
   ]
  },
  {
   "cell_type": "code",
   "execution_count": 8,
   "id": "859f2d88",
   "metadata": {},
   "outputs": [],
   "source": [
    "x = [1,2,3,4,'ml','hello',True,45.67,89.3]"
   ]
  },
  {
   "cell_type": "code",
   "execution_count": 9,
   "id": "3a1721ac",
   "metadata": {},
   "outputs": [
    {
     "data": {
      "text/plain": [
       "'hello'"
      ]
     },
     "execution_count": 9,
     "metadata": {},
     "output_type": "execute_result"
    }
   ],
   "source": [
    "x[5]"
   ]
  },
  {
   "cell_type": "code",
   "execution_count": 15,
   "id": "4e418ceb",
   "metadata": {},
   "outputs": [
    {
     "data": {
      "text/plain": [
       "[4, 'ml', 'hello', True]"
      ]
     },
     "execution_count": 15,
     "metadata": {},
     "output_type": "execute_result"
    }
   ],
   "source": [
    "x[3:7]"
   ]
  },
  {
   "cell_type": "code",
   "execution_count": 16,
   "id": "82a534ae",
   "metadata": {},
   "outputs": [
    {
     "data": {
      "text/plain": [
       "[1, 3, 'ml', True, 89.3]"
      ]
     },
     "execution_count": 16,
     "metadata": {},
     "output_type": "execute_result"
    }
   ],
   "source": [
    "x[::2]"
   ]
  },
  {
   "cell_type": "markdown",
   "id": "3e3871ec",
   "metadata": {},
   "source": [
    "# mutable and immutable"
   ]
  },
  {
   "cell_type": "code",
   "execution_count": 23,
   "id": "bf61c892",
   "metadata": {},
   "outputs": [],
   "source": [
    "# wap to updat data from x where data is from 2-5\n",
    "\n",
    "# diffrent methods\n",
    "\n",
    "x[2:4]=5,7,9\n",
    "\n"
   ]
  },
  {
   "cell_type": "code",
   "execution_count": 24,
   "id": "7cbed3a5",
   "metadata": {},
   "outputs": [],
   "source": [
    "x[1:4]=[50,70,90]"
   ]
  },
  {
   "cell_type": "code",
   "execution_count": 25,
   "id": "b83b72cd",
   "metadata": {},
   "outputs": [],
   "source": [
    "x[1:4]=[0]"
   ]
  },
  {
   "cell_type": "code",
   "execution_count": 29,
   "id": "cf697080",
   "metadata": {},
   "outputs": [
    {
     "name": "stdout",
     "output_type": "stream",
     "text": [
      "54\n",
      "54\n",
      "45\n"
     ]
    }
   ],
   "source": [
    "for i in range(1,4):\n",
    "    x[i]=input()"
   ]
  },
  {
   "cell_type": "code",
   "execution_count": 30,
   "id": "ec7c5d41",
   "metadata": {},
   "outputs": [
    {
     "data": {
      "text/plain": [
       "[1, '54', '54', '45', 45.67, 89.3]"
      ]
     },
     "execution_count": 30,
     "metadata": {},
     "output_type": "execute_result"
    }
   ],
   "source": [
    "x\n"
   ]
  },
  {
   "cell_type": "code",
   "execution_count": 36,
   "id": "a3a086ae",
   "metadata": {},
   "outputs": [],
   "source": [
    "# wap to add numbers in a list\n",
    "\n",
    "l=[1,2,3,4]"
   ]
  },
  {
   "cell_type": "code",
   "execution_count": 41,
   "id": "0c034c9f",
   "metadata": {},
   "outputs": [
    {
     "name": "stdout",
     "output_type": "stream",
     "text": [
      "10\n"
     ]
    }
   ],
   "source": [
    "su=0\n",
    "\n",
    "for i in range(len(l)):\n",
    "    su=su+l[i]\n",
    "\n",
    "print(su)"
   ]
  },
  {
   "cell_type": "code",
   "execution_count": null,
   "id": "f543dfae",
   "metadata": {},
   "outputs": [],
   "source": []
  }
 ],
 "metadata": {
  "kernelspec": {
   "display_name": "Python 3 (ipykernel)",
   "language": "python",
   "name": "python3"
  },
  "language_info": {
   "codemirror_mode": {
    "name": "ipython",
    "version": 3
   },
   "file_extension": ".py",
   "mimetype": "text/x-python",
   "name": "python",
   "nbconvert_exporter": "python",
   "pygments_lexer": "ipython3",
   "version": "3.9.12"
  }
 },
 "nbformat": 4,
 "nbformat_minor": 5
}
