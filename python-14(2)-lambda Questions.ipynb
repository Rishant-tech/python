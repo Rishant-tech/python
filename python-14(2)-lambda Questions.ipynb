{
 "cells": [
  {
   "cell_type": "markdown",
   "id": "830ad9b2",
   "metadata": {},
   "source": [
    "# adv function"
   ]
  },
  {
   "cell_type": "code",
   "execution_count": 2,
   "id": "5b1544f5",
   "metadata": {},
   "outputs": [],
   "source": [
    "# lambda func\n",
    "# filter\n",
    "# map\n",
    "# reduce"
   ]
  },
  {
   "cell_type": "code",
   "execution_count": 5,
   "id": "17c4ba38",
   "metadata": {},
   "outputs": [],
   "source": [
    "# lambda func  ------------    anonymous func --------------- one liner function"
   ]
  },
  {
   "cell_type": "code",
   "execution_count": 11,
   "id": "e4e47573",
   "metadata": {},
   "outputs": [],
   "source": [
    "a=lambda x,y:x+y"
   ]
  },
  {
   "cell_type": "code",
   "execution_count": 13,
   "id": "3428e75b",
   "metadata": {},
   "outputs": [
    {
     "data": {
      "text/plain": [
       "5"
      ]
     },
     "execution_count": 13,
     "metadata": {},
     "output_type": "execute_result"
    }
   ],
   "source": [
    "a(2,3)"
   ]
  },
  {
   "cell_type": "code",
   "execution_count": 14,
   "id": "8228af26",
   "metadata": {},
   "outputs": [],
   "source": [
    "x=lambda a,b,c,d:a+b-c*d"
   ]
  },
  {
   "cell_type": "code",
   "execution_count": 15,
   "id": "91928b7e",
   "metadata": {},
   "outputs": [
    {
     "data": {
      "text/plain": [
       "-9"
      ]
     },
     "execution_count": 15,
     "metadata": {},
     "output_type": "execute_result"
    }
   ],
   "source": [
    "x(1,2,3,4)"
   ]
  },
  {
   "cell_type": "code",
   "execution_count": null,
   "id": "6d8a66ba",
   "metadata": {},
   "outputs": [],
   "source": [
    "#wap and find square of a number using lambda function.\n",
    "#wap to find the cube of a number using lambda function.\n",
    "#wap a program to find the average of 5 numbers using lamda \n",
    "# function.\n",
    "# find odd & even number with the help of lambda function\n",
    "\n",
    "# Write a Python program to create a function\n",
    "#  that takes one argument, \n",
    "# and that argument will be multiplied with an \n",
    "# unknown given number. \n",
    "# Go to the editor\n",
    "# Sample Output:\n",
    "# Double the number of 15 = 30\n",
    "# Triple the number of 15 = 45\n",
    "# Quadruple the number of 15 = 60\n",
    "# Quintuple the number 15 = 75\n",
    "# x = [2,3,4,5]"
   ]
  },
  {
   "cell_type": "code",
   "execution_count": 1,
   "id": "650f7a29",
   "metadata": {},
   "outputs": [
    {
     "data": {
      "text/plain": [
       "16"
      ]
     },
     "execution_count": 1,
     "metadata": {},
     "output_type": "execute_result"
    }
   ],
   "source": [
    "# #wap and find square of a number using lambda function.\n",
    "a=lambda a:a*a\n",
    "a(4)"
   ]
  },
  {
   "cell_type": "code",
   "execution_count": 2,
   "id": "d087437c",
   "metadata": {},
   "outputs": [
    {
     "data": {
      "text/plain": [
       "64"
      ]
     },
     "execution_count": 2,
     "metadata": {},
     "output_type": "execute_result"
    }
   ],
   "source": [
    "#wap to find the cube of a number using lambda function.\n",
    "a=lambda a:a*a*a\n",
    "a(4)"
   ]
  },
  {
   "cell_type": "code",
   "execution_count": 3,
   "id": "82851efd",
   "metadata": {},
   "outputs": [
    {
     "data": {
      "text/plain": [
       "3.0"
      ]
     },
     "execution_count": 3,
     "metadata": {},
     "output_type": "execute_result"
    }
   ],
   "source": [
    "#wap a program to find the average of 5 numbers using lamda \n",
    "# function.\n",
    "a=lambda a,b,c,d,e:(a+b+c+d+e)/5\n",
    "a(1,2,3,4,5)"
   ]
  },
  {
   "cell_type": "code",
   "execution_count": 11,
   "id": "cb5f34cb",
   "metadata": {},
   "outputs": [
    {
     "name": "stdout",
     "output_type": "stream",
     "text": [
      "Enter the number : 2\n",
      "It is a even number!! \n"
     ]
    }
   ],
   "source": [
    "# find odd & even number with the help of lambda function\n",
    "a=lambda a:a%2\n",
    "x=a(int(input(\"Enter the number : \")))\n",
    "if x==0:\n",
    "    print(\"It is a even number!! \")\n",
    "elif x==1:\n",
    "    print(\"It is a odd number!! \")"
   ]
  },
  {
   "cell_type": "code",
   "execution_count": 12,
   "id": "5bd4b172",
   "metadata": {},
   "outputs": [],
   "source": [
    "# Write a Python program to create a function\n",
    "#  that takes one argument, \n",
    "# and that argument will be multiplied with an \n",
    "# unknown given number. \n",
    "# Go to the editor\n",
    "# Sample Output:\n",
    "# Double the number of 15 = 30\n",
    "# Triple the number of 15 = 45\n",
    "# Quadruple the number of 15 = 60\n",
    "# Quintuple the number 15 = 75\n",
    "# x = [2,3,4,5]\n",
    "\n",
    "\n"
   ]
  },
  {
   "cell_type": "code",
   "execution_count": 22,
   "id": "8a761a2d",
   "metadata": {},
   "outputs": [
    {
     "name": "stdout",
     "output_type": "stream",
     "text": [
      "Enter a number2\n",
      "4\n",
      "6\n",
      "8\n",
      "10\n"
     ]
    }
   ],
   "source": [
    "n=int(input(\"Enter a number\"))\n",
    "a=lambda n,num:num+n\n",
    "for i in [2,3,4,5]:\n",
    "    num=0\n",
    "    for j in range(i):\n",
    "        num=a(n,num)\n",
    "    print(num)\n",
    "        "
   ]
  }
 ],
 "metadata": {
  "kernelspec": {
   "display_name": "Python 3 (ipykernel)",
   "language": "python",
   "name": "python3"
  },
  "language_info": {
   "codemirror_mode": {
    "name": "ipython",
    "version": 3
   },
   "file_extension": ".py",
   "mimetype": "text/x-python",
   "name": "python",
   "nbconvert_exporter": "python",
   "pygments_lexer": "ipython3",
   "version": "3.9.12"
  }
 },
 "nbformat": 4,
 "nbformat_minor": 5
}
