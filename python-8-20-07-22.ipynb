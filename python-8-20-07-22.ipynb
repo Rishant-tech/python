{
 "cells": [
  {
   "cell_type": "code",
   "execution_count": 1,
   "id": "e3f29c7a",
   "metadata": {},
   "outputs": [],
   "source": [
    "# wap convert a tuple into string"
   ]
  },
  {
   "cell_type": "code",
   "execution_count": 2,
   "id": "ad81c378",
   "metadata": {},
   "outputs": [],
   "source": [
    "\n",
    "\n",
    "# 2.Write a Python program to create a tuple with \n",
    "# different data types.\n",
    "\n",
    "# 3.Write a Python program to create a tuple with \n",
    "# numbers and print one item.\n",
    "\n",
    "# 4.Write a Python program to add an item in a tuple.\n",
    "\n",
    "# 5.Write a Python program to convert a tuple to a string.\n",
    "\n",
    "# 6.Write a Python program to convert a list to a tuple.\n",
    "\n",
    "# 7.Write a Python program to remove an item from a tuple.\n",
    "\n",
    "# 8.Write a Python program to find the index of an \n",
    "# item of a tuple.\n",
    "\n",
    "# 9.Write a Python program to reverse a tuple.\n",
    "\n",
    "# 10.Write a Python program calculate the product, \n",
    "# multiplying all the numbers of a given tuple. \n",
    "# Original Tuple:\n",
    "# (4, 3, 2, 2, -1, 18)\n",
    "\n",
    "# 11.Python – Adding Tuple to List and vice – versa.\n",
    "\n",
    "# 12.Python program to find tuples which have \n",
    "# all elements divisible by K from a list of tuples.\n",
    "\n",
    "# 13.Python – Removing duplicates from tuple.\n",
    "\n",
    "\n",
    "\n"
   ]
  },
  {
   "cell_type": "code",
   "execution_count": 3,
   "id": "92430aa0",
   "metadata": {},
   "outputs": [
    {
     "name": "stdout",
     "output_type": "stream",
     "text": [
      "(1, 2, 3, 4, 5, 6)\n"
     ]
    },
    {
     "data": {
      "text/plain": [
       "str"
      ]
     },
     "execution_count": 3,
     "metadata": {},
     "output_type": "execute_result"
    }
   ],
   "source": [
    "# 5.Write a Python program to convert a tuple to a string.\n",
    "\n",
    "\n",
    "a=(1,2,3,4,5,6)\n",
    "\n",
    "type(a)\n",
    "\n",
    "a=str(a)\n",
    "\n",
    "print(a)\n",
    "\n",
    "type(a)"
   ]
  },
  {
   "cell_type": "code",
   "execution_count": 4,
   "id": "79e77754",
   "metadata": {},
   "outputs": [],
   "source": [
    "a=(1,2,3,4,5,6)"
   ]
  },
  {
   "cell_type": "code",
   "execution_count": 5,
   "id": "b7b5b893",
   "metadata": {},
   "outputs": [
    {
     "data": {
      "text/plain": [
       "tuple"
      ]
     },
     "execution_count": 5,
     "metadata": {},
     "output_type": "execute_result"
    }
   ],
   "source": [
    "type(a)"
   ]
  },
  {
   "cell_type": "code",
   "execution_count": 6,
   "id": "04e485e5",
   "metadata": {},
   "outputs": [],
   "source": [
    "a=str(a)"
   ]
  },
  {
   "cell_type": "code",
   "execution_count": 7,
   "id": "aa8d662e",
   "metadata": {},
   "outputs": [
    {
     "data": {
      "text/plain": [
       "'(1, 2, 3, 4, 5, 6)'"
      ]
     },
     "execution_count": 7,
     "metadata": {},
     "output_type": "execute_result"
    }
   ],
   "source": [
    "a"
   ]
  },
  {
   "cell_type": "code",
   "execution_count": 8,
   "id": "5b5c999f",
   "metadata": {},
   "outputs": [
    {
     "data": {
      "text/plain": [
       "str"
      ]
     },
     "execution_count": 8,
     "metadata": {},
     "output_type": "execute_result"
    }
   ],
   "source": [
    "\n",
    "type(a)"
   ]
  },
  {
   "cell_type": "code",
   "execution_count": 9,
   "id": "e3e6c4bf",
   "metadata": {},
   "outputs": [],
   "source": [
    "# 6.Write a Python program to convert a list to a tuple."
   ]
  },
  {
   "cell_type": "code",
   "execution_count": 10,
   "id": "9fce9c09",
   "metadata": {},
   "outputs": [
    {
     "data": {
      "text/plain": [
       "list"
      ]
     },
     "execution_count": 10,
     "metadata": {},
     "output_type": "execute_result"
    }
   ],
   "source": [
    "c=[1,2,3,4,5,6]\n",
    "\n",
    "type(c)"
   ]
  },
  {
   "cell_type": "code",
   "execution_count": 11,
   "id": "bc2dc7bb",
   "metadata": {},
   "outputs": [],
   "source": [
    "c=tuple(c)"
   ]
  },
  {
   "cell_type": "code",
   "execution_count": 13,
   "id": "464f1cff",
   "metadata": {},
   "outputs": [
    {
     "data": {
      "text/plain": [
       "tuple"
      ]
     },
     "execution_count": 13,
     "metadata": {},
     "output_type": "execute_result"
    }
   ],
   "source": [
    "type(c)"
   ]
  },
  {
   "cell_type": "code",
   "execution_count": 14,
   "id": "e4969ccf",
   "metadata": {},
   "outputs": [],
   "source": [
    "# a=(1,'fsdhfksd',2.3,3j+4,True)\n",
    "\n",
    "# 12.Python program to find tuples which have \n",
    "# all elements divisible by K from a list of tuples."
   ]
  },
  {
   "cell_type": "code",
   "execution_count": 26,
   "id": "d9c27d32",
   "metadata": {},
   "outputs": [
    {
     "name": "stdout",
     "output_type": "stream",
     "text": [
      "45\n",
      "90\n",
      "75\n",
      "60\n"
     ]
    }
   ],
   "source": [
    "k=5\n",
    "x=[(45,90,75,60)]\n",
    "\n",
    "for i in x:\n",
    "    for j in i:\n",
    "        if j%k==0:\n",
    "            print(j)\n"
   ]
  },
  {
   "cell_type": "code",
   "execution_count": 17,
   "id": "691e7a48",
   "metadata": {},
   "outputs": [],
   "source": [
    "t=(1,2,3,4,5,6)\n",
    "t1=(2,4,6,8,10)\n"
   ]
  },
  {
   "cell_type": "code",
   "execution_count": 18,
   "id": "4bc794b3",
   "metadata": {},
   "outputs": [
    {
     "name": "stdout",
     "output_type": "stream",
     "text": [
      "tuple is not divisible\n"
     ]
    }
   ],
   "source": [
    "for i in t:\n",
    "    if i%k==0:\n",
    "        print(i)\n",
    "    else:\n",
    "        print(\"tuple is not divisible\")\n",
    "        break"
   ]
  },
  {
   "cell_type": "code",
   "execution_count": 19,
   "id": "9f9a39eb",
   "metadata": {},
   "outputs": [],
   "source": [
    "# 13.Python – Removing duplicates from tuple.\n",
    "\n"
   ]
  },
  {
   "cell_type": "code",
   "execution_count": 20,
   "id": "904a9a3f",
   "metadata": {},
   "outputs": [],
   "source": [
    "d=(1,2,3,2,4,5,6,8)"
   ]
  },
  {
   "cell_type": "code",
   "execution_count": 22,
   "id": "55680b7c",
   "metadata": {},
   "outputs": [
    {
     "name": "stdout",
     "output_type": "stream",
     "text": [
      "1\n",
      "2\n",
      "3\n",
      "2\n",
      "4\n",
      "5\n",
      "6\n",
      "8\n"
     ]
    }
   ],
   "source": [
    "for i in d:\n",
    "    print(i)"
   ]
  },
  {
   "cell_type": "code",
   "execution_count": 31,
   "id": "85189f37",
   "metadata": {},
   "outputs": [],
   "source": [
    "d=list(d)\n",
    "for i in d:\n",
    "    for j in d:\n",
    "        if i==j:\n",
    "            k=i\n",
    "        \n",
    "    "
   ]
  },
  {
   "cell_type": "code",
   "execution_count": 30,
   "id": "5c829a31",
   "metadata": {},
   "outputs": [
    {
     "name": "stdout",
     "output_type": "stream",
     "text": [
      "common :  2\n"
     ]
    }
   ],
   "source": [
    "l1=[1,2,3,4]\n",
    "l2=[45,78,2,90]\n",
    "\n",
    "for i in l1:\n",
    "    for j in l2:\n",
    "        if i==j:\n",
    "            print(\"common : \",j)"
   ]
  },
  {
   "cell_type": "code",
   "execution_count": 32,
   "id": "8d779993",
   "metadata": {},
   "outputs": [],
   "source": [
    "# wap to cerate single element dictionary"
   ]
  },
  {
   "cell_type": "code",
   "execution_count": 33,
   "id": "5e2952ac",
   "metadata": {},
   "outputs": [
    {
     "name": "stdout",
     "output_type": "stream",
     "text": [
      "<class 'dict'>\n"
     ]
    }
   ],
   "source": [
    "\n",
    "dic={}\n",
    "\n",
    "print(type(dic))"
   ]
  },
  {
   "cell_type": "code",
   "execution_count": 36,
   "id": "93dbdcb5",
   "metadata": {},
   "outputs": [
    {
     "name": "stdout",
     "output_type": "stream",
     "text": [
      "{'name': 'Rishant'}\n"
     ]
    }
   ],
   "source": [
    "dic={\"name\":\"Rishant\"}\n",
    "\n",
    "print(dic)"
   ]
  },
  {
   "cell_type": "markdown",
   "id": "3656b3d8",
   "metadata": {},
   "source": [
    "# SET"
   ]
  },
  {
   "cell_type": "code",
   "execution_count": 37,
   "id": "69b9f3e5",
   "metadata": {},
   "outputs": [],
   "source": [
    "# immutable\n",
    "# unordered\n",
    "# unindexed"
   ]
  },
  {
   "cell_type": "code",
   "execution_count": 42,
   "id": "661faa05",
   "metadata": {},
   "outputs": [],
   "source": [
    "x={1,2,3,4,-5,6,7,8,-9}"
   ]
  },
  {
   "cell_type": "code",
   "execution_count": 49,
   "id": "6d9e321e",
   "metadata": {},
   "outputs": [
    {
     "name": "stdout",
     "output_type": "stream",
     "text": [
      "{1, 2, 3, 4, 6, 7, 8, -9, -5}\n"
     ]
    }
   ],
   "source": [
    "print(x)"
   ]
  },
  {
   "cell_type": "code",
   "execution_count": 52,
   "id": "d68d2986",
   "metadata": {},
   "outputs": [
    {
     "data": {
      "text/plain": [
       "{-9, -5, 1, 2, 3, 4, 6, 7, 8}"
      ]
     },
     "execution_count": 52,
     "metadata": {},
     "output_type": "execute_result"
    }
   ],
   "source": [
    "x"
   ]
  },
  {
   "cell_type": "code",
   "execution_count": 54,
   "id": "6dd3bf74",
   "metadata": {},
   "outputs": [
    {
     "data": {
      "text/plain": [
       "['__and__',\n",
       " '__class__',\n",
       " '__class_getitem__',\n",
       " '__contains__',\n",
       " '__delattr__',\n",
       " '__dir__',\n",
       " '__doc__',\n",
       " '__eq__',\n",
       " '__format__',\n",
       " '__ge__',\n",
       " '__getattribute__',\n",
       " '__gt__',\n",
       " '__hash__',\n",
       " '__iand__',\n",
       " '__init__',\n",
       " '__init_subclass__',\n",
       " '__ior__',\n",
       " '__isub__',\n",
       " '__iter__',\n",
       " '__ixor__',\n",
       " '__le__',\n",
       " '__len__',\n",
       " '__lt__',\n",
       " '__ne__',\n",
       " '__new__',\n",
       " '__or__',\n",
       " '__rand__',\n",
       " '__reduce__',\n",
       " '__reduce_ex__',\n",
       " '__repr__',\n",
       " '__ror__',\n",
       " '__rsub__',\n",
       " '__rxor__',\n",
       " '__setattr__',\n",
       " '__sizeof__',\n",
       " '__str__',\n",
       " '__sub__',\n",
       " '__subclasshook__',\n",
       " '__xor__',\n",
       " 'add',\n",
       " 'clear',\n",
       " 'copy',\n",
       " 'difference',\n",
       " 'difference_update',\n",
       " 'discard',\n",
       " 'intersection',\n",
       " 'intersection_update',\n",
       " 'isdisjoint',\n",
       " 'issubset',\n",
       " 'issuperset',\n",
       " 'pop',\n",
       " 'remove',\n",
       " 'symmetric_difference',\n",
       " 'symmetric_difference_update',\n",
       " 'union',\n",
       " 'update']"
      ]
     },
     "execution_count": 54,
     "metadata": {},
     "output_type": "execute_result"
    }
   ],
   "source": [
    "dir(x)"
   ]
  },
  {
   "cell_type": "code",
   "execution_count": null,
   "id": "29d9a39a",
   "metadata": {},
   "outputs": [],
   "source": []
  }
 ],
 "metadata": {
  "kernelspec": {
   "display_name": "Python 3 (ipykernel)",
   "language": "python",
   "name": "python3"
  },
  "language_info": {
   "codemirror_mode": {
    "name": "ipython",
    "version": 3
   },
   "file_extension": ".py",
   "mimetype": "text/x-python",
   "name": "python",
   "nbconvert_exporter": "python",
   "pygments_lexer": "ipython3",
   "version": "3.9.12"
  }
 },
 "nbformat": 4,
 "nbformat_minor": 5
}
