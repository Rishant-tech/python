{
 "cells": [
  {
   "cell_type": "code",
   "execution_count": 1,
   "metadata": {},
   "outputs": [],
   "source": [
    "#   1.A company decided to give bonus of 5% to employee if his/her \n",
    "#     year of service is more than 5 years. Ask user for their salary\n",
    "#     and year of service and print the net bonus amount."
   ]
  },
  {
   "cell_type": "code",
   "execution_count": 17,
   "metadata": {},
   "outputs": [
    {
     "name": "stdout",
     "output_type": "stream",
     "text": [
      "Enter you salary : 40000\n",
      "Enter the year of service : 6\n",
      "Your bonus will be :  2000.0\n",
      "Hurray!! your salary after bonus :  42000.0\n"
     ]
    }
   ],
   "source": [
    "sal=int(input(\"Enter you salary : \"))\n",
    "year=float(input(\"Enter the year of service : \"))\n",
    "\n",
    "if year>5:\n",
    "    print(\"Your bonus will be : \",(sal*5)/100)\n",
    "    sal=sal+(sal*5)/100\n",
    "    print(\"Hurray!! your salary after bonus : \",sal)\n",
    "else:\n",
    "    print(\"Sorry!! You will not get the bonus, still you have salary : \",sal)\n",
    "    "
   ]
  },
  {
   "cell_type": "code",
   "execution_count": null,
   "metadata": {},
   "outputs": [],
   "source": []
  },
  {
   "cell_type": "code",
   "execution_count": 3,
   "metadata": {},
   "outputs": [],
   "source": [
    "# 2.Take values of length and breadth of a rectangle from user and check if it is square or not."
   ]
  },
  {
   "cell_type": "code",
   "execution_count": 4,
   "metadata": {},
   "outputs": [
    {
     "name": "stdout",
     "output_type": "stream",
     "text": [
      "Enter the length of rectangle : 3\n",
      "Enter the breadth of rectangle : 4\n",
      "It is a rectangle!!\n"
     ]
    }
   ],
   "source": [
    "length=int(input(\"Enter the length of rectangle : \"))\n",
    "breadth=int(input(\"Enter the breadth of rectangle : \"))\n",
    "\n",
    "if length == breadth:\n",
    "    print(\"It is a square!!\")\n",
    "else:\n",
    "    print(\"It is a rectangle!!\")"
   ]
  },
  {
   "cell_type": "code",
   "execution_count": null,
   "metadata": {},
   "outputs": [],
   "source": []
  },
  {
   "cell_type": "code",
   "execution_count": 5,
   "metadata": {},
   "outputs": [],
   "source": [
    "# 3.Take three values from user and print greatest among them."
   ]
  },
  {
   "cell_type": "code",
   "execution_count": 6,
   "metadata": {},
   "outputs": [
    {
     "name": "stdout",
     "output_type": "stream",
     "text": [
      "Enter the first number : 3\n",
      "Enter the second numer : 4\n",
      "Enter the third number : 2\n",
      "Second number is greatest!!\n"
     ]
    }
   ],
   "source": [
    "a=int(input(\"Enter the first number : \"))\n",
    "b=int(input(\"Enter the second numer : \"))\n",
    "c=int(input(\"Enter the third number : \"))\n",
    "\n",
    "if a>b and a>c:\n",
    "    print(\"First number is greatest!!\")\n",
    "elif b>a and b>c:\n",
    "    print(\"Second number is greatest!!\")\n",
    "elif c>a and c>b:\n",
    "    print(\"Third number is greatest!!\")\n",
    "else:\n",
    "    print(\"You have entered 2 or more number same!!\")"
   ]
  },
  {
   "cell_type": "code",
   "execution_count": null,
   "metadata": {},
   "outputs": [],
   "source": []
  },
  {
   "cell_type": "code",
   "execution_count": 7,
   "metadata": {},
   "outputs": [],
   "source": [
    "# 4.A shop will give discount of 10% if the cost of purchased quantity is more than 10."
   ]
  },
  {
   "cell_type": "code",
   "execution_count": 8,
   "metadata": {},
   "outputs": [
    {
     "name": "stdout",
     "output_type": "stream",
     "text": [
      "Enter the bill amount : 300\n",
      "You will get the discount of 10% and bill will be :  270.0\n"
     ]
    }
   ],
   "source": [
    "bill=int(input(\"Enter the bill amount : \"))\n",
    "\n",
    "if bill>10:\n",
    "    bill=bill-(bill*10)/100\n",
    "    print(\"You will get the discount of 10% and bill will be : \",bill)\n",
    "else:\n",
    "    print(\"You will not get the discount!!\")"
   ]
  },
  {
   "cell_type": "code",
   "execution_count": null,
   "metadata": {},
   "outputs": [],
   "source": []
  },
  {
   "cell_type": "code",
   "execution_count": 9,
   "metadata": {},
   "outputs": [],
   "source": [
    "# 5.A school has following rules for grading system: \n",
    "# a. Below 25 - F \n",
    "# b. 25 to 45 - E \n",
    "# c. 45 to 50 - D \n",
    "# d. 50 to 60 - C \n",
    "# e. 60 to 80 - B \n",
    "# f. Above 80 - A \n",
    "# Ask user to enter marks and print the corresponding grade"
   ]
  },
  {
   "cell_type": "code",
   "execution_count": 10,
   "metadata": {},
   "outputs": [
    {
     "name": "stdout",
     "output_type": "stream",
     "text": [
      "Enter your numbers : 40\n",
      "You num is : E\n"
     ]
    }
   ],
   "source": [
    "num=int(input(\"Enter your marks, <=100 : \"))\n",
    "\n",
    "if num < 25:\n",
    "    print(\"You num is grade : F\")\n",
    "elif num >=25 and num <45:\n",
    "    print(\"You num is grade : E\")\n",
    "elif num >=45 and num <50:\n",
    "    print(\"You num is grade : D\")\n",
    "elif num >=50 and num <60:\n",
    "    print(\"You num is grade : C\")\n",
    "elif num >=60 and num <80:\n",
    "    print(\"You num is grade : B\")\n",
    "elif num >=80 and num <=100:\n",
    "    print(\"You num is grade : A\")\n",
    "else:\n",
    "    print(\"You have entered number greater then 100\")\n"
   ]
  },
  {
   "cell_type": "code",
   "execution_count": null,
   "metadata": {},
   "outputs": [],
   "source": []
  },
  {
   "cell_type": "code",
   "execution_count": 11,
   "metadata": {},
   "outputs": [],
   "source": [
    "# 6.Take input of age of 3 people by user and determine oldest and youngest among them."
   ]
  },
  {
   "cell_type": "code",
   "execution_count": 12,
   "metadata": {},
   "outputs": [
    {
     "name": "stdout",
     "output_type": "stream",
     "text": [
      "Enter the age of first : 45\n",
      "Enter the age of second : 43\n",
      "Enter the age of third : 42\n",
      "First is oldest!!\n"
     ]
    }
   ],
   "source": [
    "a=int(input(\"Enter the age of first : \"))\n",
    "b=int(input(\"Enter the age of second : \"))\n",
    "c=int(input(\"Enter the age of third : \"))\n",
    "\n",
    "if a>b and a>c:\n",
    "    print(\"First is oldest!!\")\n",
    "elif b>a and b>c:\n",
    "    print(\"Second is oldest!!\")\n",
    "elif c>a and c>b:\n",
    "    print(\"Third is oldest!!\")\n",
    "else:\n",
    "    print(\"You have entered age of 2 or more same!!\")"
   ]
  },
  {
   "cell_type": "code",
   "execution_count": null,
   "metadata": {},
   "outputs": [],
   "source": []
  },
  {
   "cell_type": "code",
   "execution_count": 13,
   "metadata": {},
   "outputs": [],
   "source": [
    "# 7.A student will not be allowed to sit in exam if his/her attendance is less than 75%. \n",
    "#   Take following input from user Number of classes held Number of classes attended. \n",
    "#   And print percentage of class attended \n",
    "#  Is student is allowed to sit in exam or not."
   ]
  },
  {
   "cell_type": "code",
   "execution_count": 14,
   "metadata": {},
   "outputs": [
    {
     "name": "stdout",
     "output_type": "stream",
     "text": [
      "Enter the total number of class held : 67\n",
      "Enter the number of class you have attended : 89\n",
      "You are allowed to sit in exam, you have 132.83582089552237 % attendace!!\n"
     ]
    }
   ],
   "source": [
    "total=int(input(\"Enter the total number of class held : \"))\n",
    "attend=int(input(\"Enter the number of class you have attended : \"))\n",
    "\n",
    "per=(attend * 100)/total\n",
    "\n",
    "if per >=75:\n",
    "    print(\"You are allowed to sit in exam, you have\",per,\"% attendace!!\")\n",
    "else:\n",
    "    print(\"You are not allowed to sit in exam, you have\",per,\"% attendace!!\")"
   ]
  },
  {
   "cell_type": "code",
   "execution_count": null,
   "metadata": {},
   "outputs": [],
   "source": []
  },
  {
   "cell_type": "code",
   "execution_count": 15,
   "metadata": {},
   "outputs": [],
   "source": [
    "# 8.Modify the above question to allow student to sit if he/she has medical cause. \n",
    "#  Ask user if he/she has medical cause or not ( 'Y' or 'N' ) and print accordingly."
   ]
  },
  {
   "cell_type": "code",
   "execution_count": 16,
   "metadata": {},
   "outputs": [
    {
     "name": "stdout",
     "output_type": "stream",
     "text": [
      "Are you suffering medically yes/no? : no\n",
      "You are allowed to sit in exam!!\n"
     ]
    }
   ],
   "source": [
    "caus= input(\"Are you suffering medically yes/no? : \")\n",
    "\n",
    "if caus == 'yes' or caus =='YES' :\n",
    "    print(\"You are not allowed to sit in exam!!\")\n",
    "elif caus == 'no' or caus == 'NO':\n",
    "    print(\"You are allowed to sit in exam!!\")\n",
    "else:\n",
    "    print(\"You have given a wrong input!!\")"
   ]
  },
  {
   "cell_type": "code",
   "execution_count": 1,
   "metadata": {},
   "outputs": [],
   "source": [
    "# wap to print fizz and buzz where the condition is if the number is \n",
    "# divisible by 3  print fizz but the number is divisibel by 5 then print buzz\n",
    "# aand if the number is divisible by both 2 and 3 but not divisible by 5.\n",
    "# then print fizzbuzz."
   ]
  },
  {
   "cell_type": "code",
   "execution_count": 10,
   "metadata": {},
   "outputs": [
    {
     "name": "stdout",
     "output_type": "stream",
     "text": [
      "Enter the number to check divisiblity by 3 : 2\n",
      "try again!!\n"
     ]
    }
   ],
   "source": [
    "num=int(input(\"Enter the number to check divisiblity by 3 : \"))\n",
    "\n",
    "if num%3==0:\n",
    "    print(\"fizz\",end=\"\")\n",
    "    if num%2==0 and num%5!=0:\n",
    "        print(\"buzz\")\n",
    "elif num%5==0:\n",
    "    print(\"buzz\")\n",
    "else:\n",
    "    print(\"try again!!\")"
   ]
  },
  {
   "cell_type": "code",
   "execution_count": 11,
   "metadata": {},
   "outputs": [],
   "source": [
    "#wap to guess the number from the range 1-9, your winning number is 6.\n"
   ]
  },
  {
   "cell_type": "code",
   "execution_count": 15,
   "metadata": {},
   "outputs": [
    {
     "name": "stdout",
     "output_type": "stream",
     "text": [
      "Enter the number : 2\n",
      "Increase the input!!\n"
     ]
    }
   ],
   "source": [
    "num=int(input(\"Enter the number : \"))\n",
    "\n",
    "if num==6:\n",
    "    print(\"win\")\n",
    "else:\n",
    "    if num<6:\n",
    "        print(\"Increase the input to win!!\")\n",
    "    else:\n",
    "        print(\"Decraese the input to win!!\")"
   ]
  },
  {
   "cell_type": "code",
   "execution_count": null,
   "metadata": {},
   "outputs": [],
   "source": []
  }
 ],
 "metadata": {
  "kernelspec": {
   "display_name": "Python 3",
   "language": "python",
   "name": "python3"
  },
  "language_info": {
   "codemirror_mode": {
    "name": "ipython",
    "version": 3
   },
   "file_extension": ".py",
   "mimetype": "text/x-python",
   "name": "python",
   "nbconvert_exporter": "python",
   "pygments_lexer": "ipython3",
   "version": "3.7.6"
  }
 },
 "nbformat": 4,
 "nbformat_minor": 4
}
