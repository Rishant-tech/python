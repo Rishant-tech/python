{
 "cells": [
  {
   "cell_type": "code",
   "execution_count": 1,
   "id": "1bcfaa1b",
   "metadata": {},
   "outputs": [],
   "source": [
    "# wap to find max in a list:\n",
    "\n",
    "\n"
   ]
  },
  {
   "cell_type": "code",
   "execution_count": 4,
   "id": "acf10c62",
   "metadata": {},
   "outputs": [
    {
     "name": "stdout",
     "output_type": "stream",
     "text": [
      "max :  90\n"
     ]
    }
   ],
   "source": [
    "x =[23,34,-2,0,90,89]\n",
    "v=0\n",
    "for i in x:\n",
    "    if v < i :\n",
    "        v=i\n",
    "    else:\n",
    "        pass\n",
    "print(\"max : \",v)\n",
    "        "
   ]
  },
  {
   "cell_type": "code",
   "execution_count": 5,
   "id": "b06fdf21",
   "metadata": {},
   "outputs": [],
   "source": [
    "#wap to find the miminum in a list:\n"
   ]
  },
  {
   "cell_type": "code",
   "execution_count": 8,
   "id": "241299a0",
   "metadata": {},
   "outputs": [
    {
     "name": "stdout",
     "output_type": "stream",
     "text": [
      "min :  -2\n"
     ]
    }
   ],
   "source": [
    "x = [23,34,-2,0,90,89]\n",
    "\n",
    "v=x[0]\n",
    "\n",
    "for i in x:\n",
    "    if v>i:\n",
    "        v=i\n",
    "    else:\n",
    "        pass\n",
    "\n",
    "print(\"min : \",v)\n",
    "        "
   ]
  },
  {
   "cell_type": "code",
   "execution_count": 9,
   "id": "c9619c09",
   "metadata": {},
   "outputs": [],
   "source": [
    "# wap reversing a list:\n"
   ]
  },
  {
   "cell_type": "code",
   "execution_count": 42,
   "id": "e385119b",
   "metadata": {},
   "outputs": [
    {
     "name": "stdout",
     "output_type": "stream",
     "text": [
      "[8, 7, 6, 5, 4, 3]\n"
     ]
    }
   ],
   "source": [
    "x = [3,4,5,6,7,8]\n",
    "x=x[::-1]\n",
    "# print(x)\n",
    "# v=[]\n",
    "# # for i in range(len(x),0,-1):\n",
    "# for i in x:\n",
    "    \n",
    "    \n",
    "# print(v)\n",
    "print(x)"
   ]
  },
  {
   "cell_type": "code",
   "execution_count": 21,
   "id": "9ad08a04",
   "metadata": {},
   "outputs": [],
   "source": [
    "# wap a program to multiply all num:"
   ]
  },
  {
   "cell_type": "code",
   "execution_count": 23,
   "id": "eddc6074",
   "metadata": {},
   "outputs": [
    {
     "name": "stdout",
     "output_type": "stream",
     "text": [
      "multiply :  120\n"
     ]
    }
   ],
   "source": [
    "x = [1,2,3,4,5]\n",
    "m=1\n",
    "for i in x:\n",
    "    m*=i\n",
    "print(\"multiply : \",m )"
   ]
  },
  {
   "cell_type": "code",
   "execution_count": 24,
   "id": "bad7648f",
   "metadata": {},
   "outputs": [],
   "source": [
    "# wap to count odd an d even num:\n"
   ]
  },
  {
   "cell_type": "code",
   "execution_count": 26,
   "id": "d7fc2911",
   "metadata": {},
   "outputs": [
    {
     "name": "stdout",
     "output_type": "stream",
     "text": [
      "odd :  1\n",
      "even :  2\n",
      "odd :  3\n",
      "even :  4\n",
      "odd :  5\n",
      "even :  6\n",
      "even count :  3\n",
      "odd count :  3\n"
     ]
    }
   ],
   "source": [
    "x=[1,2,3,4,5,6]\n",
    "e=0\n",
    "o=0\n",
    "for i in x:\n",
    "    if i%2==0:\n",
    "        print(\"even : \",i)\n",
    "        e+=1\n",
    "    else:\n",
    "        print(\"odd : \",i)\n",
    "        o+=1\n",
    "print(\"even count : \",e)\n",
    "print(\"odd count : \",o)"
   ]
  },
  {
   "cell_type": "code",
   "execution_count": 27,
   "id": "41a50a08",
   "metadata": {},
   "outputs": [
    {
     "name": "stdout",
     "output_type": "stream",
     "text": [
      "positive :  1\n",
      "positive :  2\n",
      "positive :  3\n",
      "positive :  4\n",
      "positive :  5\n",
      "positive :  6\n",
      "positive :  1\n"
     ]
    }
   ],
   "source": [
    "# wap to find positive number in a list:\n",
    "\n",
    "x=[1,2,3,4,5,6,0,1,-1,-2]\n",
    "\n",
    "for i in x:\n",
    "    if i>0:\n",
    "        print(\"positive : \",i)\n"
   ]
  },
  {
   "cell_type": "code",
   "execution_count": 28,
   "id": "698a9fdc",
   "metadata": {},
   "outputs": [
    {
     "name": "stdout",
     "output_type": "stream",
     "text": [
      "Negative :  -1\n",
      "Negative :  -2\n"
     ]
    }
   ],
   "source": [
    "# wap to find negative number in a list:\n",
    "\n",
    "x=[1,2,3,4,5,6,0,1,-1,-2]\n",
    "\n",
    "for i in x:\n",
    "    if i<0:\n",
    "        print(\"Negative : \",i)"
   ]
  },
  {
   "cell_type": "code",
   "execution_count": 29,
   "id": "f5b61e79",
   "metadata": {},
   "outputs": [],
   "source": [
    "# wap to check a string is a palindrome"
   ]
  },
  {
   "cell_type": "code",
   "execution_count": 40,
   "id": "d9890ecd",
   "metadata": {},
   "outputs": [
    {
     "name": "stdout",
     "output_type": "stream",
     "text": [
      "enter a string : jfhf\n",
      "reversed string :  fhfj\n",
      "not palindrome!!\n"
     ]
    }
   ],
   "source": [
    "st=input(\"enter a string : \")\n",
    "s=\"\"\n",
    "for i in st:\n",
    "    s=i+s\n",
    "    \n",
    "print(\"reversed string : \",s)\n",
    "\n",
    "if st==s:\n",
    "    print(\"palindrome!!\")\n",
    "else:\n",
    "    print(\"not palindrome!!\")"
   ]
  },
  {
   "cell_type": "code",
   "execution_count": null,
   "id": "343e747b",
   "metadata": {},
   "outputs": [],
   "source": []
  },
  {
   "cell_type": "code",
   "execution_count": null,
   "id": "4da9a5fc",
   "metadata": {},
   "outputs": [],
   "source": []
  }
 ],
 "metadata": {
  "kernelspec": {
   "display_name": "Python 3 (ipykernel)",
   "language": "python",
   "name": "python3"
  },
  "language_info": {
   "codemirror_mode": {
    "name": "ipython",
    "version": 3
   },
   "file_extension": ".py",
   "mimetype": "text/x-python",
   "name": "python",
   "nbconvert_exporter": "python",
   "pygments_lexer": "ipython3",
   "version": "3.9.12"
  }
 },
 "nbformat": 4,
 "nbformat_minor": 5
}
