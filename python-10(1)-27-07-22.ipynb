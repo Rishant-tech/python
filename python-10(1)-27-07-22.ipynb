{
 "cells": [
  {
   "cell_type": "markdown",
   "id": "faf69e9e",
   "metadata": {},
   "source": [
    "# oops"
   ]
  },
  {
   "cell_type": "code",
   "execution_count": 1,
   "id": "1cbcebfd",
   "metadata": {},
   "outputs": [],
   "source": [
    "# class \n",
    "# object\n",
    "\n",
    "# inheritance\n",
    "# polymorphism\n",
    "# encapulation\n",
    "# abstraction\n",
    "\n"
   ]
  },
  {
   "cell_type": "code",
   "execution_count": 6,
   "id": "e1d5c13d",
   "metadata": {},
   "outputs": [
    {
     "name": "stdout",
     "output_type": "stream",
     "text": [
      "10\n"
     ]
    }
   ],
   "source": [
    "class student:\n",
    "    a=10\n",
    "    \n",
    "s = student()\n",
    "\n",
    "print(s.a)"
   ]
  },
  {
   "cell_type": "code",
   "execution_count": 8,
   "id": "c8846ac9",
   "metadata": {},
   "outputs": [
    {
     "name": "stdout",
     "output_type": "stream",
     "text": [
      "30\n"
     ]
    }
   ],
   "source": [
    "class ad:\n",
    "    def add(self):\n",
    "        a=10\n",
    "        b=20\n",
    "        print(a+b)\n",
    "a=ad()\n",
    "a.add()\n"
   ]
  },
  {
   "cell_type": "code",
   "execution_count": null,
   "id": "1d0a169a",
   "metadata": {},
   "outputs": [],
   "source": []
  }
 ],
 "metadata": {
  "kernelspec": {
   "display_name": "Python 3 (ipykernel)",
   "language": "python",
   "name": "python3"
  },
  "language_info": {
   "codemirror_mode": {
    "name": "ipython",
    "version": 3
   },
   "file_extension": ".py",
   "mimetype": "text/x-python",
   "name": "python",
   "nbconvert_exporter": "python",
   "pygments_lexer": "ipython3",
   "version": "3.9.12"
  }
 },
 "nbformat": 4,
 "nbformat_minor": 5
}
