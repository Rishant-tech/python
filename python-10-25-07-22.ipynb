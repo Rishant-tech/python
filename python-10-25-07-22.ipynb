{
 "cells": [
  {
   "cell_type": "code",
   "execution_count": 1,
   "id": "f160ca50",
   "metadata": {},
   "outputs": [],
   "source": [
    "#wap to find max no. from three numbers using function.\n",
    "#wap to find min no. from three numbers using function.\n",
    "#Wap to sum all number present in a list.\n",
    "#wap to check a string is reversed or not?\n",
    "#Wap to find odd number using function.\n",
    "#wap to find even no. using function.\n",
    "# Write a function to check a string is palindrome or not?\n",
    "#Wap to sum the first 10 natural numbers using function?\n",
    "\n",
    "# Wap to calculate the percentage of 5 students??\n",
    "\n",
    "# Wap to find out the average cost of 5 quantity each\n",
    "# quantity is having the value of 80 and if the value exceed by\n",
    "# avg value then also calculate the total price of whole quantity\n",
    "# avg value => 350\n",
    "\n",
    "# Wap to find the area and circumference of circle and also try to find\n",
    "# if this circle is going to be square or not?\n",
    "\n",
    "# Calculate the total area of a land having l=20 b=30.If the land\n",
    "# is greater than 100sq fit then also calculate the cost of \n",
    "# remaining land. Price of land is 20000K.\n",
    "\n",
    "# Wap to find out the average cost of 5 quantity each\n",
    "# quantity is having the value of 80 and if the value exceed by\n",
    "# avg value then also calculate the total price of whole quantity\n",
    "# avg value => 350"
   ]
  },
  {
   "cell_type": "code",
   "execution_count": 15,
   "id": "6f0797c3",
   "metadata": {},
   "outputs": [
    {
     "name": "stdout",
     "output_type": "stream",
     "text": [
      "Enter the number : 43\n",
      "The number is prime :  43\n",
      "The number is prime :  43\n",
      "The number is prime :  43\n",
      "The number is prime :  43\n",
      "The number is prime :  43\n",
      "The number is prime :  43\n",
      "The number is prime :  43\n",
      "The number is prime :  43\n",
      "The number is prime :  43\n",
      "The number is prime :  43\n",
      "The number is prime :  43\n",
      "The number is prime :  43\n",
      "The number is prime :  43\n",
      "The number is prime :  43\n",
      "The number is prime :  43\n",
      "The number is prime :  43\n",
      "The number is prime :  43\n",
      "The number is prime :  43\n",
      "The number is prime :  43\n",
      "The number is prime :  43\n",
      "The number is prime :  43\n",
      "The number is prime :  43\n",
      "The number is prime :  43\n",
      "The number is prime :  43\n",
      "The number is prime :  43\n",
      "The number is prime :  43\n",
      "The number is prime :  43\n",
      "The number is prime :  43\n",
      "The number is prime :  43\n",
      "The number is prime :  43\n",
      "The number is prime :  43\n",
      "The number is prime :  43\n",
      "The number is prime :  43\n",
      "The number is prime :  43\n",
      "The number is prime :  43\n",
      "The number is prime :  43\n",
      "The number is prime :  43\n",
      "The number is prime :  43\n",
      "The number is prime :  43\n",
      "The number is prime :  43\n",
      "The number is prime :  43\n"
     ]
    }
   ],
   "source": [
    "n=int(input(\"Enter the number : \"))\n",
    "i=2\n",
    "p=1\n",
    "while (i<=n):\n",
    "    if n%i==0:\n",
    "        p=0\n",
    "    elif p==1:\n",
    "        print(\"The number is prime : \",n)\n",
    "    elif n==0 or n==1:\n",
    "        print(\"The number is not prime  : \",n)\n",
    "    else:\n",
    "        print(\"The number is not prime  : \",n)\n",
    "    i=i+1"
   ]
  },
  {
   "cell_type": "code",
   "execution_count": 36,
   "id": "dca8c804",
   "metadata": {},
   "outputs": [
    {
     "name": "stdout",
     "output_type": "stream",
     "text": [
      "Enter the number : 43\n",
      "The number is not prime :  43\n"
     ]
    }
   ],
   "source": [
    "n=int(input(\"Enter the number : \"))\n",
    "i=2\n",
    "p=True\n",
    "while (i<=n):\n",
    "    if n%i==0:\n",
    "        p= False\n",
    "    i=i+1\n",
    "else:\n",
    "    if p== False:\n",
    "        print(\"The number is not prime : \",n)\n",
    "    else:\n",
    "        print(\"The number is prime : \",n)"
   ]
  },
  {
   "cell_type": "code",
   "execution_count": 27,
   "id": "b644a4e9",
   "metadata": {},
   "outputs": [
    {
     "name": "stdout",
     "output_type": "stream",
     "text": [
      "Enter the number : 49\n",
      "Not prime:  49\n"
     ]
    }
   ],
   "source": [
    "num=int(input(\"Enter the number : \"))\n",
    "\n",
    "if num>1:\n",
    "    for i in range(2,num):\n",
    "        if num%i==0:\n",
    "            print(\"Not prime: \",num)\n",
    "            break\n",
    "    else:\n",
    "        print(\"Prime  : \",num)\n",
    "else:\n",
    "    print(\"Prime : \",num)"
   ]
  },
  {
   "cell_type": "code",
   "execution_count": 28,
   "id": "4e27ddce",
   "metadata": {},
   "outputs": [
    {
     "name": "stdout",
     "output_type": "stream",
     "text": [
      "Not prime:  10\n",
      "Prime  :  11\n",
      "Not prime:  12\n",
      "Prime  :  13\n",
      "Not prime:  14\n",
      "Not prime:  15\n",
      "Not prime:  16\n",
      "Prime  :  17\n",
      "Not prime:  18\n",
      "Prime  :  19\n",
      "Not prime:  20\n",
      "Not prime:  21\n",
      "Not prime:  22\n",
      "Prime  :  23\n",
      "Not prime:  24\n",
      "Not prime:  25\n",
      "Not prime:  26\n",
      "Not prime:  27\n",
      "Not prime:  28\n",
      "Prime  :  29\n",
      "Not prime:  30\n",
      "Prime  :  31\n",
      "Not prime:  32\n",
      "Not prime:  33\n",
      "Not prime:  34\n",
      "Not prime:  35\n",
      "Not prime:  36\n",
      "Prime  :  37\n",
      "Not prime:  38\n",
      "Not prime:  39\n",
      "Not prime:  40\n",
      "Prime  :  41\n",
      "Not prime:  42\n",
      "Prime  :  43\n",
      "Not prime:  44\n",
      "Not prime:  45\n",
      "Not prime:  46\n",
      "Prime  :  47\n",
      "Not prime:  48\n",
      "Not prime:  49\n",
      "Not prime:  50\n"
     ]
    }
   ],
   "source": [
    "for num in range(10,51):\n",
    "    if num>1:\n",
    "        for i in range(2,num):\n",
    "            if num%i==0:\n",
    "                print(\"Not prime: \",num)\n",
    "                break\n",
    "        else:\n",
    "            print(\"Prime  : \",num)\n",
    "    else:\n",
    "        print(\"Prime : \",num)"
   ]
  },
  {
   "cell_type": "code",
   "execution_count": null,
   "id": "3536380f",
   "metadata": {},
   "outputs": [],
   "source": []
  }
 ],
 "metadata": {
  "kernelspec": {
   "display_name": "Python 3 (ipykernel)",
   "language": "python",
   "name": "python3"
  },
  "language_info": {
   "codemirror_mode": {
    "name": "ipython",
    "version": 3
   },
   "file_extension": ".py",
   "mimetype": "text/x-python",
   "name": "python",
   "nbconvert_exporter": "python",
   "pygments_lexer": "ipython3",
   "version": "3.9.12"
  }
 },
 "nbformat": 4,
 "nbformat_minor": 5
}
