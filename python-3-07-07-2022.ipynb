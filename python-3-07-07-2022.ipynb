{
 "cells": [
  {
   "cell_type": "markdown",
   "id": "4afb7fb5",
   "metadata": {},
   "source": [
    "# Loop"
   ]
  },
  {
   "cell_type": "code",
   "execution_count": 2,
   "id": "53ec4ae4",
   "metadata": {},
   "outputs": [],
   "source": [
    "#for loop \n",
    "#while loop\n",
    "\n",
    "#syntax-------------------->\n",
    "\n",
    "for i in  range(10):\n",
    "    print(i)"
   ]
  },
  {
   "cell_type": "markdown",
   "id": "48ee6a18",
   "metadata": {},
   "source": [
    "# for loop"
   ]
  },
  {
   "cell_type": "code",
   "execution_count": 5,
   "id": "7de77b09",
   "metadata": {},
   "outputs": [
    {
     "name": "stdout",
     "output_type": "stream",
     "text": [
      "2\n",
      "3\n",
      "4\n",
      "5\n",
      "6\n",
      "7\n",
      "8\n",
      "9\n",
      "10\n",
      "11\n",
      "12\n",
      "13\n",
      "14\n",
      "15\n",
      "16\n",
      "17\n",
      "18\n",
      "19\n"
     ]
    }
   ],
   "source": [
    "#print 2-20\n",
    "\n",
    "for i in range(2,20):\n",
    "    print(i)"
   ]
  },
  {
   "cell_type": "code",
   "execution_count": 17,
   "id": "16904811",
   "metadata": {},
   "outputs": [
    {
     "name": "stdout",
     "output_type": "stream",
     "text": [
      "Enter the step size : 2\n",
      "0\n",
      "2\n",
      "4\n",
      "6\n",
      "8\n",
      "10\n",
      "12\n",
      "14\n",
      "16\n",
      "18\n"
     ]
    }
   ],
   "source": [
    "#0-20\n",
    "\n",
    "for i in range(0,20,int(input(\"Enter the step size : \"))):\n",
    "    print(i)"
   ]
  },
  {
   "cell_type": "code",
   "execution_count": 15,
   "id": "358c6d9e",
   "metadata": {},
   "outputs": [],
   "source": [
    "# 1. wap to print number -10-10\n",
    "\n",
    "# 2. wap to print number 10- (-10)"
   ]
  },
  {
   "cell_type": "code",
   "execution_count": 11,
   "id": "22a8d63e",
   "metadata": {},
   "outputs": [
    {
     "name": "stdout",
     "output_type": "stream",
     "text": [
      "-10\n",
      "-9\n",
      "-8\n",
      "-7\n",
      "-6\n",
      "-5\n",
      "-4\n",
      "-3\n",
      "-2\n",
      "-1\n",
      "0\n",
      "1\n",
      "2\n",
      "3\n",
      "4\n",
      "5\n",
      "6\n",
      "7\n",
      "8\n",
      "9\n",
      "10\n"
     ]
    }
   ],
   "source": [
    "for i in range(-10,11):\n",
    "    print(i)"
   ]
  },
  {
   "cell_type": "code",
   "execution_count": 14,
   "id": "b73fd6d1",
   "metadata": {},
   "outputs": [
    {
     "name": "stdout",
     "output_type": "stream",
     "text": [
      "10\n",
      "9\n",
      "8\n",
      "7\n",
      "6\n",
      "5\n",
      "4\n",
      "3\n",
      "2\n",
      "1\n",
      "0\n",
      "-1\n",
      "-2\n",
      "-3\n",
      "-4\n",
      "-5\n",
      "-6\n",
      "-7\n",
      "-8\n",
      "-9\n",
      "-10\n"
     ]
    }
   ],
   "source": [
    "for i in range(10,-11,-1):\n",
    "    print(i)"
   ]
  },
  {
   "cell_type": "code",
   "execution_count": 22,
   "id": "2835704f",
   "metadata": {},
   "outputs": [
    {
     "name": "stdout",
     "output_type": "stream",
     "text": [
      "Even!! and number is :  0\n",
      "Odd!! and number is :  1\n",
      "Even!! and number is :  2\n",
      "Odd!! and number is :  3\n",
      "Even!! and number is :  4\n",
      "Odd!! and number is :  5\n",
      "Even!! and number is :  6\n",
      "Odd!! and number is :  7\n",
      "Even!! and number is :  8\n",
      "Odd!! and number is :  9\n",
      "Even!! and number is :  10\n",
      "Odd!! and number is :  11\n",
      "Even!! and number is :  12\n",
      "Odd!! and number is :  13\n",
      "Even!! and number is :  14\n",
      "Odd!! and number is :  15\n",
      "Even!! and number is :  16\n",
      "Odd!! and number is :  17\n",
      "Even!! and number is :  18\n",
      "Odd!! and number is :  19\n",
      "Even!! and number is :  20\n",
      "Odd!! and number is :  21\n",
      "Even!! and number is :  22\n",
      "Odd!! and number is :  23\n",
      "Even!! and number is :  24\n",
      "Odd!! and number is :  25\n",
      "Even!! and number is :  26\n",
      "Odd!! and number is :  27\n",
      "Even!! and number is :  28\n",
      "Odd!! and number is :  29\n",
      "Even!! and number is :  30\n",
      "Odd!! and number is :  31\n",
      "Even!! and number is :  32\n",
      "Odd!! and number is :  33\n",
      "Even!! and number is :  34\n",
      "Odd!! and number is :  35\n",
      "Even!! and number is :  36\n",
      "Odd!! and number is :  37\n",
      "Even!! and number is :  38\n",
      "Odd!! and number is :  39\n",
      "Even!! and number is :  40\n",
      "Odd!! and number is :  41\n",
      "Even!! and number is :  42\n",
      "Odd!! and number is :  43\n",
      "Even!! and number is :  44\n",
      "Odd!! and number is :  45\n",
      "Even!! and number is :  46\n",
      "Odd!! and number is :  47\n",
      "Even!! and number is :  48\n",
      "Odd!! and number is :  49\n",
      "Even!! and number is :  50\n"
     ]
    }
   ],
   "source": [
    "# wap to find od and even number form 0-50\n",
    "\n",
    "for i in range(51):\n",
    "    if i%2==0:\n",
    "        print(\"Even!! and number is : \",i)\n",
    "    else:\n",
    "        print(\"Odd!! and number is : \",i)"
   ]
  },
  {
   "cell_type": "markdown",
   "id": "1c2a54ea",
   "metadata": {},
   "source": [
    "# while loop"
   ]
  },
  {
   "cell_type": "code",
   "execution_count": 23,
   "id": "2c9a12c9",
   "metadata": {},
   "outputs": [],
   "source": [
    "# 1. initalize\n",
    "# 2. condition\n",
    "# 3. increment/decrement\n"
   ]
  },
  {
   "cell_type": "code",
   "execution_count": 26,
   "id": "fd927d06",
   "metadata": {},
   "outputs": [
    {
     "name": "stdout",
     "output_type": "stream",
     "text": [
      "Enter the number : 3\n",
      "3\n",
      "4\n",
      "5\n",
      "6\n",
      "7\n",
      "8\n",
      "9\n"
     ]
    }
   ],
   "source": [
    "#0-10\n",
    "\n",
    "x=int(input(\"Enter the number : \"))\n",
    "\n",
    "while x<10:\n",
    "    print(x)\n",
    "    x=x+1"
   ]
  },
  {
   "cell_type": "code",
   "execution_count": null,
   "id": "2bab0f08",
   "metadata": {},
   "outputs": [],
   "source": []
  }
 ],
 "metadata": {
  "kernelspec": {
   "display_name": "Python 3 (ipykernel)",
   "language": "python",
   "name": "python3"
  },
  "language_info": {
   "codemirror_mode": {
    "name": "ipython",
    "version": 3
   },
   "file_extension": ".py",
   "mimetype": "text/x-python",
   "name": "python",
   "nbconvert_exporter": "python",
   "pygments_lexer": "ipython3",
   "version": "3.9.12"
  }
 },
 "nbformat": 4,
 "nbformat_minor": 5
}
