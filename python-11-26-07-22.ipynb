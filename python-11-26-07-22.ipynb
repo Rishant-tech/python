{
 "cells": [
  {
   "cell_type": "code",
   "execution_count": 1,
   "id": "e33834e6",
   "metadata": {},
   "outputs": [
    {
     "data": {
      "text/plain": [
       "10"
      ]
     },
     "execution_count": 1,
     "metadata": {},
     "output_type": "execute_result"
    }
   ],
   "source": [
    "# wap to make a variable in a class\n",
    "\n",
    "class var:\n",
    "    a=10\n",
    "\n",
    "v=var()\n",
    "v.a"
   ]
  },
  {
   "cell_type": "code",
   "execution_count": 2,
   "id": "3298f77d",
   "metadata": {},
   "outputs": [
    {
     "name": "stdout",
     "output_type": "stream",
     "text": [
      "21\n"
     ]
    }
   ],
   "source": [
    "# wap and make a function inside the class and take the output\n",
    "\n",
    "class ad:\n",
    "    def add(self):\n",
    "        a=10\n",
    "        b=11\n",
    "        print(a+b)\n",
    "        \n",
    "ad().add()"
   ]
  },
  {
   "cell_type": "code",
   "execution_count": 5,
   "id": "b3457322",
   "metadata": {},
   "outputs": [
    {
     "name": "stdout",
     "output_type": "stream",
     "text": [
      "Enter the number : 12\n",
      "Enter the number : 12\n",
      "24\n"
     ]
    }
   ],
   "source": [
    "class ad:\n",
    "    def add(self,a,b):\n",
    "        print(a+b)\n",
    "        \n",
    "addd=ad()\n",
    "\n",
    "a=int(input(\"Enter the number : \"))\n",
    "\n",
    "b=int(input(\"Enter the number : \"))\n",
    "\n",
    "addd.add(a,b)"
   ]
  },
  {
   "cell_type": "code",
   "execution_count": 12,
   "id": "3e60fa40",
   "metadata": {},
   "outputs": [
    {
     "name": "stdout",
     "output_type": "stream",
     "text": [
      "Enter the number : 12\n",
      "12\n"
     ]
    }
   ],
   "source": [
    "# wap to make a variable and a function inside oops\n",
    "\n",
    "class b:\n",
    "    a=int(input(\"Enter the number : \"))\n",
    "    def func(self):\n",
    "        \n",
    "        print(a)\n",
    "bb=b()\n",
    "bb.func()"
   ]
  },
  {
   "cell_type": "markdown",
   "id": "df3727f3",
   "metadata": {},
   "source": [
    "# constructor"
   ]
  },
  {
   "cell_type": "code",
   "execution_count": 14,
   "id": "cb080148",
   "metadata": {},
   "outputs": [],
   "source": [
    "# no need to call constructor\n",
    "\n",
    "#"
   ]
  },
  {
   "cell_type": "code",
   "execution_count": 15,
   "id": "47e7af94",
   "metadata": {},
   "outputs": [],
   "source": [
    "class employee:\n",
    "    def __init__(self,name,salary):\n",
    "        self.name=name\n",
    "        self.salary=salary\n",
    "e=employee(\"A\",78000)\n",
    "\n",
    "        "
   ]
  },
  {
   "cell_type": "code",
   "execution_count": 16,
   "id": "0ca5bb2f",
   "metadata": {},
   "outputs": [
    {
     "data": {
      "text/plain": [
       "'A'"
      ]
     },
     "execution_count": 16,
     "metadata": {},
     "output_type": "execute_result"
    }
   ],
   "source": [
    "e.name"
   ]
  },
  {
   "cell_type": "code",
   "execution_count": 17,
   "id": "84c73052",
   "metadata": {},
   "outputs": [
    {
     "data": {
      "text/plain": [
       "78000"
      ]
     },
     "execution_count": 17,
     "metadata": {},
     "output_type": "execute_result"
    }
   ],
   "source": [
    "e.salary"
   ]
  },
  {
   "cell_type": "markdown",
   "id": "1242be2a",
   "metadata": {},
   "source": [
    "# inheritance"
   ]
  },
  {
   "cell_type": "code",
   "execution_count": 20,
   "id": "692d1ab8",
   "metadata": {},
   "outputs": [],
   "source": [
    "class parent:\n",
    "    def __init__(self,name,age):\n",
    "        self.name=name\n",
    "        self.age=age\n",
    "class child(parent):\n",
    "    def __init__(self,name,age,marks):\n",
    "        parent.__init__(self,name,age)\n",
    "        self.marks=marks\n",
    "        \n",
    "c=child('a',50,80)"
   ]
  },
  {
   "cell_type": "code",
   "execution_count": 21,
   "id": "7a6b5275",
   "metadata": {},
   "outputs": [
    {
     "data": {
      "text/plain": [
       "80"
      ]
     },
     "execution_count": 21,
     "metadata": {},
     "output_type": "execute_result"
    }
   ],
   "source": [
    "c.marks"
   ]
  },
  {
   "cell_type": "code",
   "execution_count": 22,
   "id": "10e2eba4",
   "metadata": {},
   "outputs": [],
   "source": [
    "class parent:\n",
    "    def __init__(self,name,age):\n",
    "        self.name=name\n",
    "        self.age=age\n",
    "class child(parent):\n",
    "    def __init__(self,name,age,marks):\n",
    "        super().__init__(name,age)\n",
    "        self.marks=marks\n",
    "        \n",
    "c=child('a',50,80)"
   ]
  },
  {
   "cell_type": "code",
   "execution_count": 23,
   "id": "b5040234",
   "metadata": {},
   "outputs": [
    {
     "data": {
      "text/plain": [
       "'a'"
      ]
     },
     "execution_count": 23,
     "metadata": {},
     "output_type": "execute_result"
    }
   ],
   "source": [
    "c.name\n"
   ]
  },
  {
   "cell_type": "code",
   "execution_count": 25,
   "id": "ac5ba96d",
   "metadata": {},
   "outputs": [],
   "source": [
    "# wap to inherit the class car from automobile and try to find the output of the car class attrib\n",
    "\n",
    "class automobile:\n",
    "    def __init__(self,model,speed,color):\n",
    "        self.model=model\n",
    "        self.speed=speed\n",
    "        self.color=color\n",
    "class car(automobile):\n",
    "    def __init__(self,model,speed,color,price):\n",
    "        super().__init__(model,speed,color)\n",
    "        self.price=price\n",
    "c=car(2022,220,'red',1000000)"
   ]
  },
  {
   "cell_type": "code",
   "execution_count": 26,
   "id": "427a3f81",
   "metadata": {},
   "outputs": [
    {
     "data": {
      "text/plain": [
       "1000000"
      ]
     },
     "execution_count": 26,
     "metadata": {},
     "output_type": "execute_result"
    }
   ],
   "source": [
    "c.price"
   ]
  },
  {
   "cell_type": "code",
   "execution_count": 27,
   "id": "fee8fd28",
   "metadata": {},
   "outputs": [
    {
     "data": {
      "text/plain": [
       "'red'"
      ]
     },
     "execution_count": 27,
     "metadata": {},
     "output_type": "execute_result"
    }
   ],
   "source": [
    "c.color"
   ]
  },
  {
   "cell_type": "code",
   "execution_count": 28,
   "id": "d4eb3e18",
   "metadata": {},
   "outputs": [
    {
     "data": {
      "text/plain": [
       "220"
      ]
     },
     "execution_count": 28,
     "metadata": {},
     "output_type": "execute_result"
    }
   ],
   "source": [
    "c.speed"
   ]
  },
  {
   "cell_type": "code",
   "execution_count": 29,
   "id": "b73c767c",
   "metadata": {},
   "outputs": [
    {
     "data": {
      "text/plain": [
       "2022"
      ]
     },
     "execution_count": 29,
     "metadata": {},
     "output_type": "execute_result"
    }
   ],
   "source": [
    "c.model"
   ]
  },
  {
   "cell_type": "code",
   "execution_count": null,
   "id": "89229295",
   "metadata": {},
   "outputs": [],
   "source": []
  }
 ],
 "metadata": {
  "kernelspec": {
   "display_name": "Python 3 (ipykernel)",
   "language": "python",
   "name": "python3"
  },
  "language_info": {
   "codemirror_mode": {
    "name": "ipython",
    "version": 3
   },
   "file_extension": ".py",
   "mimetype": "text/x-python",
   "name": "python",
   "nbconvert_exporter": "python",
   "pygments_lexer": "ipython3",
   "version": "3.9.12"
  }
 },
 "nbformat": 4,
 "nbformat_minor": 5
}
