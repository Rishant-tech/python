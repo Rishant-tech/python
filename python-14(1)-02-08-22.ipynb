{
 "cells": [
  {
   "cell_type": "markdown",
   "id": "3752192b",
   "metadata": {},
   "source": [
    "# abstraction-----> hiding the complexity of the data"
   ]
  },
  {
   "cell_type": "code",
   "execution_count": 1,
   "id": "59486f9b",
   "metadata": {},
   "outputs": [],
   "source": [
    "#not supported directly by python\n",
    "#we need to import some modules to achieve abstraction\n",
    "#works upon inheritance"
   ]
  },
  {
   "cell_type": "code",
   "execution_count": 2,
   "id": "4c1f4a72",
   "metadata": {},
   "outputs": [],
   "source": [
    "# ABC and abstract calss import"
   ]
  },
  {
   "cell_type": "code",
   "execution_count": 3,
   "id": "0b59dd7d",
   "metadata": {
    "scrolled": false
   },
   "outputs": [],
   "source": [
    "import abc"
   ]
  },
  {
   "cell_type": "code",
   "execution_count": 4,
   "id": "a0174cbf",
   "metadata": {},
   "outputs": [],
   "source": [
    "from abc import ABC, abstractmethod"
   ]
  },
  {
   "cell_type": "code",
   "execution_count": 5,
   "id": "b3f7e825",
   "metadata": {},
   "outputs": [],
   "source": [
    "class st1(ABC):\n",
    "    @abstractmethod\n",
    "    def nm(self,name):\n",
    "        print(name)\n",
    "class st2():\n",
    "    def ag(self,age):\n",
    "        print(age)\n",
    "class st3(st2):\n",
    "    def mr(self,marks):\n",
    "        print(marks)\n"
   ]
  },
  {
   "cell_type": "code",
   "execution_count": 6,
   "id": "fdaa1fb2",
   "metadata": {},
   "outputs": [
    {
     "name": "stdout",
     "output_type": "stream",
     "text": [
      "23\n"
     ]
    }
   ],
   "source": [
    "st2().ag(23)"
   ]
  },
  {
   "cell_type": "code",
   "execution_count": 7,
   "id": "54199f93",
   "metadata": {},
   "outputs": [
    {
     "name": "stdout",
     "output_type": "stream",
     "text": [
      "45\n"
     ]
    }
   ],
   "source": [
    "st3().mr(45)"
   ]
  },
  {
   "cell_type": "code",
   "execution_count": null,
   "id": "860d9fe0",
   "metadata": {},
   "outputs": [],
   "source": []
  }
 ],
 "metadata": {
  "kernelspec": {
   "display_name": "Python 3 (ipykernel)",
   "language": "python",
   "name": "python3"
  },
  "language_info": {
   "codemirror_mode": {
    "name": "ipython",
    "version": 3
   },
   "file_extension": ".py",
   "mimetype": "text/x-python",
   "name": "python",
   "nbconvert_exporter": "python",
   "pygments_lexer": "ipython3",
   "version": "3.9.12"
  }
 },
 "nbformat": 4,
 "nbformat_minor": 5
}
