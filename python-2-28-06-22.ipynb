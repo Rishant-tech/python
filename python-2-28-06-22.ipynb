{
 "cells": [
  {
   "cell_type": "code",
   "execution_count": null,
   "metadata": {},
   "outputs": [],
   "source": [
    "# wap to add tow no.\n",
    "# wap to swap two no. \n",
    "# 1: with the help of 3rd variable \n",
    "# 2: without using 3rd variable"
   ]
  },
  {
   "cell_type": "code",
   "execution_count": 1,
   "metadata": {},
   "outputs": [],
   "source": [
    "a=3\n",
    "b=4"
   ]
  },
  {
   "cell_type": "code",
   "execution_count": 2,
   "metadata": {},
   "outputs": [
    {
     "name": "stdout",
     "output_type": "stream",
     "text": [
      "7\n"
     ]
    }
   ],
   "source": [
    "c=a+b\n",
    "print(c)"
   ]
  },
  {
   "cell_type": "code",
   "execution_count": 1,
   "metadata": {},
   "outputs": [
    {
     "name": "stdout",
     "output_type": "stream",
     "text": [
      "Enter the number : 2\n",
      "Enter the number : 3\n",
      "5\n"
     ]
    }
   ],
   "source": [
    "# wap to add two numbers with help of user input\n",
    "\n",
    "a=int(input(\"Enter the number : \"))\n",
    "b=int(input(\"Enter the number : \"))\n",
    "c=a+b\n",
    "print(c)"
   ]
  },
  {
   "cell_type": "code",
   "execution_count": 3,
   "metadata": {},
   "outputs": [
    {
     "name": "stdout",
     "output_type": "stream",
     "text": [
      "Enter the number : 3\n",
      "Enter the number : 3\n",
      "6.0\n"
     ]
    }
   ],
   "source": [
    "a=int(input(\"Enter the number : \"))\n",
    "b=float(input(\"Enter the number : \"))\n",
    "c=a+b\n",
    "print(c)"
   ]
  },
  {
   "cell_type": "code",
   "execution_count": null,
   "metadata": {},
   "outputs": [],
   "source": []
  },
  {
   "cell_type": "code",
   "execution_count": 3,
   "metadata": {},
   "outputs": [],
   "source": [
    "#with using 3rd variable\n",
    "a=1\n",
    "b=3\n",
    "c=b\n",
    "b=a\n",
    "a=c"
   ]
  },
  {
   "cell_type": "code",
   "execution_count": 4,
   "metadata": {},
   "outputs": [
    {
     "name": "stdout",
     "output_type": "stream",
     "text": [
      "3 1\n"
     ]
    }
   ],
   "source": [
    "print(a,b)"
   ]
  },
  {
   "cell_type": "code",
   "execution_count": 5,
   "metadata": {},
   "outputs": [
    {
     "name": "stdout",
     "output_type": "stream",
     "text": [
      "befor swapping 3 2\n",
      "after swapping 2 3\n"
     ]
    }
   ],
   "source": [
    "#without using 3rd variable\n",
    "a,b=3,2\n",
    "print(\"befor swapping\",a,b)\n",
    "a,b=b,a\n",
    "print(\"after swapping\",a,b)"
   ]
  },
  {
   "cell_type": "code",
   "execution_count": 6,
   "metadata": {},
   "outputs": [
    {
     "name": "stdout",
     "output_type": "stream",
     "text": [
      "Enter number6\n",
      "Enter a number7\n",
      "67\n"
     ]
    }
   ],
   "source": [
    "#concatination\n",
    "a=input(\"Enter number\")\n",
    "b=input(\"Enter a number\")\n",
    "print(a+b)\n",
    "\n"
   ]
  },
  {
   "cell_type": "code",
   "execution_count": 7,
   "metadata": {},
   "outputs": [
    {
     "name": "stdout",
     "output_type": "stream",
     "text": [
      "Enter number6\n",
      "Enter a number7\n",
      "13\n"
     ]
    }
   ],
   "source": [
    "#type casting\n",
    "a=int(input(\"Enter number\"))\n",
    "b=int(input(\"Enter a number\"))\n",
    "\n",
    "print(a+b)"
   ]
  },
  {
   "cell_type": "code",
   "execution_count": 8,
   "metadata": {},
   "outputs": [
    {
     "name": "stdout",
     "output_type": "stream",
     "text": [
      "6\n",
      "6.0\n"
     ]
    }
   ],
   "source": [
    "a=float(input())\n",
    "print(a)"
   ]
  },
  {
   "cell_type": "markdown",
   "metadata": {},
   "source": [
    "# wap to find the average of 5 subject with the help of user input."
   ]
  },
  {
   "cell_type": "code",
   "execution_count": 9,
   "metadata": {},
   "outputs": [
    {
     "name": "stdout",
     "output_type": "stream",
     "text": [
      "Enter the number for first subject23\n",
      "Enter the number for second subject12\n",
      "Enter the number for third subject23\n",
      "Enter the number for fourth subject21\n",
      "Enter the number for fifth subject22\n",
      "20.2\n"
     ]
    }
   ],
   "source": [
    "a=int(input(\"Enter the number for first subject\"))\n",
    "b=int(input(\"Enter the number for second subject\"))\n",
    "c=int(input(\"Enter the number for third subject\"))\n",
    "d=int(input(\"Enter the number for fourth subject\"))\n",
    "e=int(input(\"Enter the number for fifth subject\"))\n",
    "\n",
    "print((a+b+c+d+e)/5)"
   ]
  },
  {
   "cell_type": "markdown",
   "metadata": {},
   "source": [
    "# condition"
   ]
  },
  {
   "cell_type": "code",
   "execution_count": 11,
   "metadata": {},
   "outputs": [
    {
     "name": "stdout",
     "output_type": "stream",
     "text": [
      "message\n"
     ]
    }
   ],
   "source": [
    "#syntax------>\n",
    "# if 1:\n",
    "#     print(\"message\")\n",
    "# else:\n",
    "#     print(\"message\")\n"
   ]
  },
  {
   "cell_type": "code",
   "execution_count": 12,
   "metadata": {},
   "outputs": [
    {
     "name": "stdout",
     "output_type": "stream",
     "text": [
      "Enter your age: 89\n",
      "Eligible to vote!!\n"
     ]
    }
   ],
   "source": [
    "age=int(input(\"Enter your age: \"))\n",
    "\n",
    "if age>18:\n",
    "    print(\"Eligible to vote!!\")\n",
    "elif age==18:\n",
    "    print(\"You are first time voter!!\")\n",
    "else:\n",
    "    print(\"Not eligible to vote!!\")\n",
    "    "
   ]
  },
  {
   "cell_type": "markdown",
   "metadata": {},
   "source": [
    "# wap to find odd and even number\n",
    "\n"
   ]
  },
  {
   "cell_type": "code",
   "execution_count": 13,
   "metadata": {},
   "outputs": [
    {
     "name": "stdout",
     "output_type": "stream",
     "text": [
      "Enter a number :  2\n",
      "even\n"
     ]
    }
   ],
   "source": [
    "a=int(input(\"Enter a number :  \"))\n",
    "\n",
    "\n",
    "if a%2 == 0:\n",
    "    print(\"even\")\n",
    "else:\n",
    "    print(\"odd\")"
   ]
  },
  {
   "cell_type": "markdown",
   "metadata": {},
   "source": [
    "# wap to find max number among two numbers\n"
   ]
  },
  {
   "cell_type": "code",
   "execution_count": 14,
   "metadata": {},
   "outputs": [
    {
     "name": "stdout",
     "output_type": "stream",
     "text": [
      "Enter a number :  3\n",
      "Enter a number :  2\n",
      "a is greatest\n"
     ]
    }
   ],
   "source": [
    "a=int(input(\"Enter a number :  \"))\n",
    "b=int(input(\"Enter a number :  \"))\n",
    "\n",
    "if a>b:\n",
    "    print(\"a is greatest\")\n",
    "else:\n",
    "    print(\"b is greatest\")\n",
    "    "
   ]
  },
  {
   "cell_type": "markdown",
   "metadata": {},
   "source": [
    "# wap  to find max among three numbers."
   ]
  },
  {
   "cell_type": "code",
   "execution_count": 17,
   "metadata": {},
   "outputs": [
    {
     "name": "stdout",
     "output_type": "stream",
     "text": [
      "Enter a number :  3\n",
      "Enter a number :  3\n",
      "Enter a number :  3\n",
      "You have entered two or more number same\n"
     ]
    }
   ],
   "source": [
    "a=int(input(\"Enter a number :  \"))\n",
    "b=int(input(\"Enter a number :  \"))\n",
    "c=int(input(\"Enter a number :  \"))\n",
    "\n",
    "if a>b and a>c:\n",
    "    print(\"a is greatest\")\n",
    "elif b>a and b>c:\n",
    "    print(\"b is greatest\")\n",
    "elif c>a and c>b:\n",
    "    print(\"c is greatest\")\n",
    "else:\n",
    "    print(\"You have entered two or more number same\")"
   ]
  },
  {
   "cell_type": "code",
   "execution_count": 13,
   "metadata": {},
   "outputs": [
    {
     "name": "stdout",
     "output_type": "stream",
     "text": [
      "Enter a number : 7\n",
      "Number is odd\n"
     ]
    }
   ],
   "source": [
    "# wap to find a number is even or odd\n",
    "\n",
    "a=int(input(\"Enter a number : \"))\n",
    "\n",
    "if a%2==0:\n",
    "    print(\"Number is even\")\n",
    "else:\n",
    "    print(\"Number is odd\")\n",
    "    \n",
    "    "
   ]
  },
  {
   "cell_type": "code",
   "execution_count": 14,
   "metadata": {},
   "outputs": [
    {
     "name": "stdout",
     "output_type": "stream",
     "text": [
      "Enter a number :  2\n",
      "Enter a number :  3\n",
      "b is greater then a\n"
     ]
    }
   ],
   "source": [
    "# wap max of two numbers\n",
    "\n",
    "x=int(input(\"Enter a number :  \"))\n",
    "y=int(input(\"Enter a number :  \"))\n",
    "\n",
    "if x>y:\n",
    "    print(\"a is greater then b!!\")\n",
    "else:\n",
    "    print(\"b is greater then a!!\")"
   ]
  },
  {
   "cell_type": "code",
   "execution_count": null,
   "metadata": {},
   "outputs": [],
   "source": [
    "# wap to find max of three\n",
    "\n",
    "x=int(input(\"Enter a number :  \"))\n",
    "y=int(input(\"Enter a number :  \"))\n",
    "z=int(input(\"Enter a number :  \"))\n",
    "\n",
    "if x>y and x>z:\n",
    "    print(\"x is greatest\")\n",
    "elif y>x and y>z:\n",
    "    print(\"y is greatest\")\n",
    "elif z>x and z>y:\n",
    "    print(\"z is greatest\")\n",
    "else:\n",
    "    print(\"You have entered two or more number same\")"
   ]
  }
 ],
 "metadata": {
  "kernelspec": {
   "display_name": "Python 3",
   "language": "python",
   "name": "python3"
  },
  "language_info": {
   "codemirror_mode": {
    "name": "ipython",
    "version": 3
   },
   "file_extension": ".py",
   "mimetype": "text/x-python",
   "name": "python",
   "nbconvert_exporter": "python",
   "pygments_lexer": "ipython3",
   "version": "3.7.6"
  }
 },
 "nbformat": 4,
 "nbformat_minor": 4
}
