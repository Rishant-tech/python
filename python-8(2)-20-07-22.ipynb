{
 "cells": [
  {
   "cell_type": "markdown",
   "id": "ef4f642b",
   "metadata": {},
   "source": [
    "# function"
   ]
  },
  {
   "cell_type": "code",
   "execution_count": 7,
   "id": "7e629ea7",
   "metadata": {},
   "outputs": [],
   "source": [
    "def hello():\n",
    "    print(\"Good Morning!!\")"
   ]
  },
  {
   "cell_type": "code",
   "execution_count": 17,
   "id": "bf552f59",
   "metadata": {},
   "outputs": [
    {
     "name": "stdout",
     "output_type": "stream",
     "text": [
      "Good Morning!!\n"
     ]
    }
   ],
   "source": [
    "if __name__=='__main__':\n",
    "    hello()\n",
    "\n"
   ]
  },
  {
   "cell_type": "code",
   "execution_count": 20,
   "id": "7854298c",
   "metadata": {},
   "outputs": [],
   "source": [
    "# type of function\n",
    "\n",
    "# no arg no return\n",
    "# no arg with return\n",
    "# with arg with return\n",
    "# with arg no return"
   ]
  },
  {
   "cell_type": "code",
   "execution_count": 21,
   "id": "c43a4d29",
   "metadata": {},
   "outputs": [
    {
     "name": "stdout",
     "output_type": "stream",
     "text": [
      "Enter the number : 5\n",
      "Enter the number : 7\n",
      "Sum :  12\n"
     ]
    }
   ],
   "source": [
    "# wap to add two numbers with funtion\n",
    "\n",
    "\n",
    "def add():\n",
    "    a=int(input(\"Enter the number : \"))\n",
    "    b=int(input(\"Enter the number : \"))\n",
    "    c=a+b\n",
    "    print(\"Sum : \",c)\n",
    "    \n",
    "if __name__=='__main__':\n",
    "    add()"
   ]
  },
  {
   "cell_type": "code",
   "execution_count": 22,
   "id": "fe292d2b",
   "metadata": {},
   "outputs": [
    {
     "name": "stdout",
     "output_type": "stream",
     "text": [
      "Enter the number : 5\n",
      "Enter the number : 6\n",
      "sum :  11\n"
     ]
    }
   ],
   "source": [
    "def add(a,b):\n",
    "    c=a+b\n",
    "    print(\"sum : \",c)\n",
    "    \n",
    "if __name__=='__main__':\n",
    "    a=int(input(\"Enter the number : \"))\n",
    "    b=int(input(\"Enter the number : \"))\n",
    "    add(a,b)"
   ]
  },
  {
   "cell_type": "code",
   "execution_count": 23,
   "id": "bb8bacd9",
   "metadata": {
    "scrolled": true
   },
   "outputs": [
    {
     "name": "stdout",
     "output_type": "stream",
     "text": [
      "Enter the number : 6\n",
      "Enter the number : 7\n",
      "13\n"
     ]
    }
   ],
   "source": [
    "def add(a,b):\n",
    "    c=a+b\n",
    "    return c\n",
    "    \n",
    "if __name__=='__main__':\n",
    "    a=int(input(\"Enter the number : \"))\n",
    "    b=int(input(\"Enter the number : \"))\n",
    "    print(add(a,b))"
   ]
  },
  {
   "cell_type": "code",
   "execution_count": 24,
   "id": "18abc81d",
   "metadata": {},
   "outputs": [],
   "source": [
    "# wap to calculate the sum of first 10 numbers using function"
   ]
  },
  {
   "cell_type": "code",
   "execution_count": 25,
   "id": "5b78d4ad",
   "metadata": {},
   "outputs": [
    {
     "name": "stdout",
     "output_type": "stream",
     "text": [
      "sum of first 10 numbers :  55\n"
     ]
    }
   ],
   "source": [
    "def su():\n",
    "    sum=0\n",
    "    for i in range(10):\n",
    "        sum+=(i+1)\n",
    "    print(\"sum of first 10 numbers : \",sum)\n",
    "    \n",
    "if __name__=='__main__':\n",
    "    su()"
   ]
  },
  {
   "cell_type": "code",
   "execution_count": null,
   "id": "1d7e4ce0",
   "metadata": {},
   "outputs": [],
   "source": []
  }
 ],
 "metadata": {
  "kernelspec": {
   "display_name": "Python 3 (ipykernel)",
   "language": "python",
   "name": "python3"
  },
  "language_info": {
   "codemirror_mode": {
    "name": "ipython",
    "version": 3
   },
   "file_extension": ".py",
   "mimetype": "text/x-python",
   "name": "python",
   "nbconvert_exporter": "python",
   "pygments_lexer": "ipython3",
   "version": "3.9.12"
  }
 },
 "nbformat": 4,
 "nbformat_minor": 5
}
