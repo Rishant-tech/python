{
 "cells": [
  {
   "cell_type": "markdown",
   "id": "830ad9b2",
   "metadata": {},
   "source": [
    "# adv function"
   ]
  },
  {
   "cell_type": "code",
   "execution_count": 2,
   "id": "5b1544f5",
   "metadata": {},
   "outputs": [],
   "source": [
    "# lambda func\n",
    "# filter\n",
    "# map\n",
    "# reduce"
   ]
  },
  {
   "cell_type": "code",
   "execution_count": 5,
   "id": "17c4ba38",
   "metadata": {},
   "outputs": [],
   "source": [
    "# lambda func  ------------    anonymous func --------------- one liner function"
   ]
  },
  {
   "cell_type": "code",
   "execution_count": 11,
   "id": "e4e47573",
   "metadata": {},
   "outputs": [],
   "source": [
    "a=lambda x,y:x+y"
   ]
  },
  {
   "cell_type": "code",
   "execution_count": 13,
   "id": "3428e75b",
   "metadata": {},
   "outputs": [
    {
     "data": {
      "text/plain": [
       "5"
      ]
     },
     "execution_count": 13,
     "metadata": {},
     "output_type": "execute_result"
    }
   ],
   "source": [
    "a(2,3)"
   ]
  },
  {
   "cell_type": "code",
   "execution_count": 14,
   "id": "8228af26",
   "metadata": {},
   "outputs": [],
   "source": [
    "x=lambda a,b,c,d:a+b-c*d"
   ]
  },
  {
   "cell_type": "code",
   "execution_count": 15,
   "id": "91928b7e",
   "metadata": {},
   "outputs": [
    {
     "data": {
      "text/plain": [
       "-9"
      ]
     },
     "execution_count": 15,
     "metadata": {},
     "output_type": "execute_result"
    }
   ],
   "source": [
    "x(1,2,3,4)"
   ]
  },
  {
   "cell_type": "code",
   "execution_count": null,
   "id": "650f7a29",
   "metadata": {},
   "outputs": [],
   "source": [
    "# squaer of a number\n",
    "a=lambda a:a*a\n"
   ]
  }
 ],
 "metadata": {
  "kernelspec": {
   "display_name": "Python 3 (ipykernel)",
   "language": "python",
   "name": "python3"
  },
  "language_info": {
   "codemirror_mode": {
    "name": "ipython",
    "version": 3
   },
   "file_extension": ".py",
   "mimetype": "text/x-python",
   "name": "python",
   "nbconvert_exporter": "python",
   "pygments_lexer": "ipython3",
   "version": "3.9.12"
  }
 },
 "nbformat": 4,
 "nbformat_minor": 5
}
