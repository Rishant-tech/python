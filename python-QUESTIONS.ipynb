{
 "cells": [
  {
   "cell_type": "code",
   "execution_count": 44,
   "id": "f160ca50",
   "metadata": {},
   "outputs": [],
   "source": [
    "#wap to find max no. from three numbers using function.\n",
    "#wap to find min no. from three numbers using function.\n",
    "#Wap to sum all number present in a list.\n",
    "#wap to check a string is reversed or not?\n",
    "#Wap to find odd number using function.\n",
    "#wap to find even no. using function.\n",
    "# Write a function to check a string is palindrome or not?\n",
    "#Wap to sum the first 10 natural numbers using function?\n",
    "\n",
    "# Wap to calculate the percentage of 5 students??\n",
    "\n",
    "# Wap to find out the average cost of 5 quantity each\n",
    "# quantity is having the value of 80 and if the value exceed by\n",
    "# avg value then also calculate the total price of whole quantity\n",
    "# avg value => 350\n",
    "\n",
    "# Wap to find the area and circumference of circle and also try to find\n",
    "# if this circle is going to be square or not?\n",
    "\n",
    "# Calculate the total area of a land having l=20 b=30.If the land\n",
    "# is greater than 100sq fit then also calculate the cost of \n",
    "# remaining land. Price of land is 20000K.\n",
    "\n"
   ]
  },
  {
   "cell_type": "code",
   "execution_count": 15,
   "id": "6f0797c3",
   "metadata": {},
   "outputs": [
    {
     "name": "stdout",
     "output_type": "stream",
     "text": [
      "Enter the number : 43\n",
      "The number is prime :  43\n",
      "The number is prime :  43\n",
      "The number is prime :  43\n",
      "The number is prime :  43\n",
      "The number is prime :  43\n",
      "The number is prime :  43\n",
      "The number is prime :  43\n",
      "The number is prime :  43\n",
      "The number is prime :  43\n",
      "The number is prime :  43\n",
      "The number is prime :  43\n",
      "The number is prime :  43\n",
      "The number is prime :  43\n",
      "The number is prime :  43\n",
      "The number is prime :  43\n",
      "The number is prime :  43\n",
      "The number is prime :  43\n",
      "The number is prime :  43\n",
      "The number is prime :  43\n",
      "The number is prime :  43\n",
      "The number is prime :  43\n",
      "The number is prime :  43\n",
      "The number is prime :  43\n",
      "The number is prime :  43\n",
      "The number is prime :  43\n",
      "The number is prime :  43\n",
      "The number is prime :  43\n",
      "The number is prime :  43\n",
      "The number is prime :  43\n",
      "The number is prime :  43\n",
      "The number is prime :  43\n",
      "The number is prime :  43\n",
      "The number is prime :  43\n",
      "The number is prime :  43\n",
      "The number is prime :  43\n",
      "The number is prime :  43\n",
      "The number is prime :  43\n",
      "The number is prime :  43\n",
      "The number is prime :  43\n",
      "The number is prime :  43\n",
      "The number is prime :  43\n"
     ]
    }
   ],
   "source": [
    "n=int(input(\"Enter the number : \"))\n",
    "i=2\n",
    "p=1\n",
    "while (i<=n):\n",
    "    if n%i==0:\n",
    "        p=0\n",
    "    elif p==1:\n",
    "        print(\"The number is prime : \",n)\n",
    "    elif n==0 or n==1:\n",
    "        print(\"The number is not prime  : \",n)\n",
    "    else:\n",
    "        print(\"The number is not prime  : \",n)\n",
    "    i=i+1"
   ]
  },
  {
   "cell_type": "code",
   "execution_count": 36,
   "id": "dca8c804",
   "metadata": {},
   "outputs": [
    {
     "name": "stdout",
     "output_type": "stream",
     "text": [
      "Enter the number : 43\n",
      "The number is not prime :  43\n"
     ]
    }
   ],
   "source": [
    "n=int(input(\"Enter the number : \"))\n",
    "i=2\n",
    "p=True\n",
    "while (i<=n):\n",
    "    if n%i==0:\n",
    "        p= False\n",
    "    i=i+1\n",
    "else:\n",
    "    if p== False:\n",
    "        print(\"The number is not prime : \",n)\n",
    "    else:\n",
    "        print(\"The number is prime : \",n)"
   ]
  },
  {
   "cell_type": "code",
   "execution_count": 27,
   "id": "b644a4e9",
   "metadata": {},
   "outputs": [
    {
     "name": "stdout",
     "output_type": "stream",
     "text": [
      "Enter the number : 49\n",
      "Not prime:  49\n"
     ]
    }
   ],
   "source": [
    "num=int(input(\"Enter the number : \"))\n",
    "\n",
    "if num>1:\n",
    "    for i in range(2,num):\n",
    "        if num%i==0:\n",
    "            print(\"Not prime: \",num)\n",
    "            break\n",
    "    else:\n",
    "        print(\"Prime  : \",num)\n",
    "else:\n",
    "    print(\"Prime : \",num)"
   ]
  },
  {
   "cell_type": "code",
   "execution_count": 28,
   "id": "4e27ddce",
   "metadata": {},
   "outputs": [
    {
     "name": "stdout",
     "output_type": "stream",
     "text": [
      "Not prime:  10\n",
      "Prime  :  11\n",
      "Not prime:  12\n",
      "Prime  :  13\n",
      "Not prime:  14\n",
      "Not prime:  15\n",
      "Not prime:  16\n",
      "Prime  :  17\n",
      "Not prime:  18\n",
      "Prime  :  19\n",
      "Not prime:  20\n",
      "Not prime:  21\n",
      "Not prime:  22\n",
      "Prime  :  23\n",
      "Not prime:  24\n",
      "Not prime:  25\n",
      "Not prime:  26\n",
      "Not prime:  27\n",
      "Not prime:  28\n",
      "Prime  :  29\n",
      "Not prime:  30\n",
      "Prime  :  31\n",
      "Not prime:  32\n",
      "Not prime:  33\n",
      "Not prime:  34\n",
      "Not prime:  35\n",
      "Not prime:  36\n",
      "Prime  :  37\n",
      "Not prime:  38\n",
      "Not prime:  39\n",
      "Not prime:  40\n",
      "Prime  :  41\n",
      "Not prime:  42\n",
      "Prime  :  43\n",
      "Not prime:  44\n",
      "Not prime:  45\n",
      "Not prime:  46\n",
      "Prime  :  47\n",
      "Not prime:  48\n",
      "Not prime:  49\n",
      "Not prime:  50\n"
     ]
    }
   ],
   "source": [
    "for num in range(10,51):\n",
    "    if num>1:\n",
    "        for i in range(2,num):\n",
    "            if num%i==0:\n",
    "                print(\"Not prime: \",num)\n",
    "                break\n",
    "        else:\n",
    "            print(\"Prime  : \",num)\n",
    "    else:\n",
    "        print(\"Prime : \",num)"
   ]
  },
  {
   "cell_type": "code",
   "execution_count": 3,
   "id": "3536380f",
   "metadata": {},
   "outputs": [
    {
     "name": "stdout",
     "output_type": "stream",
     "text": [
      "Enter the value of a : 90\n",
      "Enter the value of b : 120\n",
      "Enter the value of c : 90\n",
      "The greatest among the three is :  120\n"
     ]
    }
   ],
   "source": [
    "#wap to find max no. from three numbers using function.\n",
    "def max(a,b,c):\n",
    "    if a>b and a>c:\n",
    "        return a\n",
    "    elif b>a and b>c:\n",
    "        return b\n",
    "    elif c>a and c>b:\n",
    "        return c\n",
    "    else:\n",
    "        return \"Any of two or more are equal\"\n",
    "\n",
    "a=int(input(\"Enter the value of a : \"))\n",
    "b=int(input(\"Enter the value of b : \"))\n",
    "c=int(input(\"Enter the value of c : \"))\n",
    "\n",
    "print(\"The greatest among the three is : \",max(a,b,c))\n",
    "    \n"
   ]
  },
  {
   "cell_type": "code",
   "execution_count": 6,
   "id": "5a42058d",
   "metadata": {},
   "outputs": [
    {
     "name": "stdout",
     "output_type": "stream",
     "text": [
      "Enter the value of a : 10\n",
      "Enter the value of b : 2\n",
      "Enter the value of c : 2\n",
      "The greatest among the three is :  Any of two or more are equal\n"
     ]
    }
   ],
   "source": [
    "#wap to find min no. from three numbers using function.\n",
    "def min(a,b,c):\n",
    "    if a<b and a<c:\n",
    "        return a\n",
    "    elif b<a and b<c:\n",
    "        return b\n",
    "    elif c<a and c<b:\n",
    "        return c\n",
    "    else:\n",
    "        return \"Any of two or more are equal\"\n",
    "\n",
    "a=int(input(\"Enter the value of a : \"))\n",
    "b=int(input(\"Enter the value of b : \"))\n",
    "c=int(input(\"Enter the value of c : \"))\n",
    "\n",
    "print(\"The greatest among the three is : \",min(a,b,c))"
   ]
  },
  {
   "cell_type": "code",
   "execution_count": 22,
   "id": "7caf8668",
   "metadata": {},
   "outputs": [
    {
     "name": "stdout",
     "output_type": "stream",
     "text": [
      "Enter the number of elements you want to enter : 1\n",
      "Enter the element : 01\n",
      "The sum off elements of the list :  1\n"
     ]
    }
   ],
   "source": [
    "#Wap to sum all number present in a list.\n",
    "def lsum(a):\n",
    "    sum=0\n",
    "    for i in a:\n",
    "        sum+=i\n",
    "    return sum\n",
    "n=int(input(\"Enter the number of elements you want to enter : \"))\n",
    "a=[]\n",
    "\n",
    "for i in range(n):\n",
    "    a.append(int(input(\"Enter the element : \"+str(i))))\n",
    "print(\"The sum off elements of the list : \",lsum(a))\n",
    "        "
   ]
  },
  {
   "cell_type": "code",
   "execution_count": 25,
   "id": "aa68d43b",
   "metadata": {},
   "outputs": [
    {
     "name": "stdout",
     "output_type": "stream",
     "text": [
      "Enter a string : \"fgg\"\n",
      "The string is now reversed : \"ggf\"\n"
     ]
    }
   ],
   "source": [
    "## wap to check a string is reversed or not?\n",
    "def pal(s):\n",
    "    if s==s[::-1]:\n",
    "        return \"The string is not reversed : \"+s\n",
    "    else:\n",
    "        return \"The string is now reversed : \"+s[::-1]\n",
    "s=input(\"Enter a string : \")\n",
    "print(pal(s))"
   ]
  },
  {
   "cell_type": "code",
   "execution_count": 26,
   "id": "99c81ee0",
   "metadata": {},
   "outputs": [
    {
     "name": "stdout",
     "output_type": "stream",
     "text": [
      "Enter the number : 23\n",
      "The number is odd :  23\n"
     ]
    }
   ],
   "source": [
    "#Wap to find odd number using function.\n",
    "def odd(num):\n",
    "    if num%2!=0:\n",
    "        print(\"The number is odd : \",num)\n",
    "    else:\n",
    "        print(\"The number is not odd : \",num)\n",
    "num=int(input(\"Enter the number : \"))\n",
    "odd(num)"
   ]
  },
  {
   "cell_type": "code",
   "execution_count": 27,
   "id": "2cb14d48",
   "metadata": {},
   "outputs": [
    {
     "name": "stdout",
     "output_type": "stream",
     "text": [
      "Enter the number : 22\n",
      "The number is even :  22\n"
     ]
    }
   ],
   "source": [
    "#wap to find even no. using function.\n",
    "def even(num):\n",
    "    if num%2!=0:\n",
    "        print(\"The number is odd : \",num)\n",
    "    else:\n",
    "        print(\"The number is even : \",num)\n",
    "num=int(input(\"Enter the number : \"))\n",
    "even(num)\n"
   ]
  },
  {
   "cell_type": "code",
   "execution_count": 30,
   "id": "2e3917d8",
   "metadata": {},
   "outputs": [
    {
     "name": "stdout",
     "output_type": "stream",
     "text": [
      "Enter the string : \"90\"\n",
      "The string is not a palindrome :  \"90\" \"09\"\n"
     ]
    }
   ],
   "source": [
    "# Write a function to check a string is palindrome or not?\n",
    "def pali(s):\n",
    "    if s==s[::-1]:\n",
    "        print(\"The string is a palindrome : \",s,s[::-1])\n",
    "    else:\n",
    "        print(\"The string is not a palindrome : \",s,s[::-1])\n",
    "s=input(\"Enter the string : \")\n",
    "pali(s)"
   ]
  },
  {
   "cell_type": "code",
   "execution_count": 31,
   "id": "5f4c9153",
   "metadata": {},
   "outputs": [
    {
     "name": "stdout",
     "output_type": "stream",
     "text": [
      "The sum of first 10 natural number :  55\n"
     ]
    }
   ],
   "source": [
    "#Wap to sum the first 10 natural numbers using function?\n",
    "def nat_sum(sum):\n",
    "    for i in range(10):\n",
    "        sum+=(i+1)\n",
    "    return sum\n",
    "sum=0\n",
    "print(\"The sum of first 10 natural number : \",nat_sum(sum))"
   ]
  },
  {
   "cell_type": "code",
   "execution_count": 38,
   "id": "272eaf77",
   "metadata": {},
   "outputs": [
    {
     "name": "stdout",
     "output_type": "stream",
     "text": [
      "Enter the marks of subject : 0 20\n",
      "The percentage of the subject :  20.0\n"
     ]
    },
    {
     "ename": "KeyboardInterrupt",
     "evalue": "Interrupted by user",
     "output_type": "error",
     "traceback": [
      "\u001b[1;31m---------------------------------------------------------------------------\u001b[0m",
      "\u001b[1;31mKeyboardInterrupt\u001b[0m                         Traceback (most recent call last)",
      "Input \u001b[1;32mIn [38]\u001b[0m, in \u001b[0;36m<cell line: 5>\u001b[1;34m()\u001b[0m\n\u001b[0;32m      3\u001b[0m     \u001b[38;5;28;01mreturn\u001b[39;00m (s\u001b[38;5;241m/\u001b[39m\u001b[38;5;241m100\u001b[39m)\u001b[38;5;241m*\u001b[39m\u001b[38;5;241m100\u001b[39m\n\u001b[0;32m      5\u001b[0m \u001b[38;5;28;01mfor\u001b[39;00m i \u001b[38;5;129;01min\u001b[39;00m \u001b[38;5;28mrange\u001b[39m(\u001b[38;5;241m5\u001b[39m):\n\u001b[1;32m----> 6\u001b[0m     s\u001b[38;5;241m=\u001b[39m\u001b[38;5;28mint\u001b[39m(\u001b[38;5;28;43minput\u001b[39;49m\u001b[43m(\u001b[49m\u001b[38;5;124;43m\"\u001b[39;49m\u001b[38;5;124;43mEnter the marks of subject : \u001b[39;49m\u001b[38;5;124;43m\"\u001b[39;49m\u001b[38;5;241;43m+\u001b[39;49m\u001b[38;5;28;43mstr\u001b[39;49m\u001b[43m(\u001b[49m\u001b[43mi\u001b[49m\u001b[43m)\u001b[49m\u001b[38;5;241;43m+\u001b[39;49m\u001b[38;5;124;43m\"\u001b[39;49m\u001b[38;5;124;43m \u001b[39;49m\u001b[38;5;124;43m\"\u001b[39;49m\u001b[43m)\u001b[49m)\n\u001b[0;32m      7\u001b[0m     \u001b[38;5;28mprint\u001b[39m(\u001b[38;5;124m\"\u001b[39m\u001b[38;5;124mThe percentage of the subject : \u001b[39m\u001b[38;5;124m\"\u001b[39m,sum_s(s))\n",
      "File \u001b[1;32mC:\\ProgramData\\Anaconda3\\lib\\site-packages\\ipykernel\\kernelbase.py:1075\u001b[0m, in \u001b[0;36mKernel.raw_input\u001b[1;34m(self, prompt)\u001b[0m\n\u001b[0;32m   1071\u001b[0m \u001b[38;5;28;01mif\u001b[39;00m \u001b[38;5;129;01mnot\u001b[39;00m \u001b[38;5;28mself\u001b[39m\u001b[38;5;241m.\u001b[39m_allow_stdin:\n\u001b[0;32m   1072\u001b[0m     \u001b[38;5;28;01mraise\u001b[39;00m StdinNotImplementedError(\n\u001b[0;32m   1073\u001b[0m         \u001b[38;5;124m\"\u001b[39m\u001b[38;5;124mraw_input was called, but this frontend does not support input requests.\u001b[39m\u001b[38;5;124m\"\u001b[39m\n\u001b[0;32m   1074\u001b[0m     )\n\u001b[1;32m-> 1075\u001b[0m \u001b[38;5;28;01mreturn\u001b[39;00m \u001b[38;5;28;43mself\u001b[39;49m\u001b[38;5;241;43m.\u001b[39;49m\u001b[43m_input_request\u001b[49m\u001b[43m(\u001b[49m\n\u001b[0;32m   1076\u001b[0m \u001b[43m    \u001b[49m\u001b[38;5;28;43mstr\u001b[39;49m\u001b[43m(\u001b[49m\u001b[43mprompt\u001b[49m\u001b[43m)\u001b[49m\u001b[43m,\u001b[49m\n\u001b[0;32m   1077\u001b[0m \u001b[43m    \u001b[49m\u001b[38;5;28;43mself\u001b[39;49m\u001b[38;5;241;43m.\u001b[39;49m\u001b[43m_parent_ident\u001b[49m\u001b[43m[\u001b[49m\u001b[38;5;124;43m\"\u001b[39;49m\u001b[38;5;124;43mshell\u001b[39;49m\u001b[38;5;124;43m\"\u001b[39;49m\u001b[43m]\u001b[49m\u001b[43m,\u001b[49m\n\u001b[0;32m   1078\u001b[0m \u001b[43m    \u001b[49m\u001b[38;5;28;43mself\u001b[39;49m\u001b[38;5;241;43m.\u001b[39;49m\u001b[43mget_parent\u001b[49m\u001b[43m(\u001b[49m\u001b[38;5;124;43m\"\u001b[39;49m\u001b[38;5;124;43mshell\u001b[39;49m\u001b[38;5;124;43m\"\u001b[39;49m\u001b[43m)\u001b[49m\u001b[43m,\u001b[49m\n\u001b[0;32m   1079\u001b[0m \u001b[43m    \u001b[49m\u001b[43mpassword\u001b[49m\u001b[38;5;241;43m=\u001b[39;49m\u001b[38;5;28;43;01mFalse\u001b[39;49;00m\u001b[43m,\u001b[49m\n\u001b[0;32m   1080\u001b[0m \u001b[43m\u001b[49m\u001b[43m)\u001b[49m\n",
      "File \u001b[1;32mC:\\ProgramData\\Anaconda3\\lib\\site-packages\\ipykernel\\kernelbase.py:1120\u001b[0m, in \u001b[0;36mKernel._input_request\u001b[1;34m(self, prompt, ident, parent, password)\u001b[0m\n\u001b[0;32m   1117\u001b[0m             \u001b[38;5;28;01mbreak\u001b[39;00m\n\u001b[0;32m   1118\u001b[0m \u001b[38;5;28;01mexcept\u001b[39;00m \u001b[38;5;167;01mKeyboardInterrupt\u001b[39;00m:\n\u001b[0;32m   1119\u001b[0m     \u001b[38;5;66;03m# re-raise KeyboardInterrupt, to truncate traceback\u001b[39;00m\n\u001b[1;32m-> 1120\u001b[0m     \u001b[38;5;28;01mraise\u001b[39;00m \u001b[38;5;167;01mKeyboardInterrupt\u001b[39;00m(\u001b[38;5;124m\"\u001b[39m\u001b[38;5;124mInterrupted by user\u001b[39m\u001b[38;5;124m\"\u001b[39m) \u001b[38;5;28;01mfrom\u001b[39;00m \u001b[38;5;28mNone\u001b[39m\n\u001b[0;32m   1121\u001b[0m \u001b[38;5;28;01mexcept\u001b[39;00m \u001b[38;5;167;01mException\u001b[39;00m:\n\u001b[0;32m   1122\u001b[0m     \u001b[38;5;28mself\u001b[39m\u001b[38;5;241m.\u001b[39mlog\u001b[38;5;241m.\u001b[39mwarning(\u001b[38;5;124m\"\u001b[39m\u001b[38;5;124mInvalid Message:\u001b[39m\u001b[38;5;124m\"\u001b[39m, exc_info\u001b[38;5;241m=\u001b[39m\u001b[38;5;28;01mTrue\u001b[39;00m)\n",
      "\u001b[1;31mKeyboardInterrupt\u001b[0m: Interrupted by user"
     ]
    }
   ],
   "source": [
    "# Wap to calculate the percentage of 5 subjects??\n",
    "def sum_s(s):\n",
    "    return (s/100)*100\n",
    "\n",
    "for i in range(5):\n",
    "    s=int(input(\"Enter the marks of subject : \"+str(i)+\" \"))\n",
    "    print(\"The percentage of the subject : \",sum_s(s))\n",
    "\n"
   ]
  },
  {
   "cell_type": "code",
   "execution_count": 39,
   "id": "de62a7d6",
   "metadata": {},
   "outputs": [
    {
     "name": "stdout",
     "output_type": "stream",
     "text": [
      "The total price of the quanity is :  400\n"
     ]
    }
   ],
   "source": [
    "# Wap to find out the average cost of 5 quantity each\n",
    "# quantity is having the value of 80 and if the value exceed by\n",
    "# avg value then also calculate the total price of whole quantity\n",
    "# avg value => 350\n",
    "def av_cost():\n",
    "    avg=350\n",
    "    val=80\n",
    "    val*=5\n",
    "    if val>350:\n",
    "        print(\"The total price of the quanity is : \",val)\n",
    "    else:\n",
    "        print(\"It is low as of average value : \",val)\n",
    "av_cost()\n"
   ]
  },
  {
   "cell_type": "code",
   "execution_count": 41,
   "id": "99f1ec4e",
   "metadata": {},
   "outputs": [
    {
     "name": "stdout",
     "output_type": "stream",
     "text": [
      "Enter the radius of the circle : 12\n",
      "The area of the circle is :  452.3893421169302\n",
      "The circumfrence of the circle is :  75.39822368615503\n"
     ]
    }
   ],
   "source": [
    "# Wap to find the area and circumference of circle and also try to find\n",
    "# if this circle is going to be square or not?\n",
    "from math import pi\n",
    "def area(r):\n",
    "    return pi*r*r\n",
    "def cir(r):\n",
    "    return 2*pi*r\n",
    "r=int(input(\"Enter the radius of the circle : \"))\n",
    "print(\"The area of the circle is : \",area(r))\n",
    "print(\"The circumfrence of the circle is : \",cir(r))"
   ]
  },
  {
   "cell_type": "code",
   "execution_count": 43,
   "id": "ad13f90c",
   "metadata": {},
   "outputs": [
    {
     "name": "stdout",
     "output_type": "stream",
     "text": [
      "1000000000\n"
     ]
    }
   ],
   "source": [
    "# Calculate the total area of a land having l=20 b=30.If the land\n",
    "# is greater than 100sq fit then also calculate the cost of \n",
    "# remaining land. Price of land is 20000K.\n",
    "def ar(l=20,b=30):\n",
    "    sq=l*b\n",
    "    if sq>100:\n",
    "        sq=sq-100\n",
    "        return sq*2000000\n",
    "    else:\n",
    "        return sq*2000000\n",
    "print(ar())\n"
   ]
  },
  {
   "cell_type": "code",
   "execution_count": null,
   "id": "c7121404",
   "metadata": {},
   "outputs": [],
   "source": []
  }
 ],
 "metadata": {
  "kernelspec": {
   "display_name": "Python 3 (ipykernel)",
   "language": "python",
   "name": "python3"
  },
  "language_info": {
   "codemirror_mode": {
    "name": "ipython",
    "version": 3
   },
   "file_extension": ".py",
   "mimetype": "text/x-python",
   "name": "python",
   "nbconvert_exporter": "python",
   "pygments_lexer": "ipython3",
   "version": "3.9.12"
  }
 },
 "nbformat": 4,
 "nbformat_minor": 5
}
