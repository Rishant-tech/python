{
 "cells": [
  {
   "cell_type": "markdown",
   "id": "5ab994e4",
   "metadata": {},
   "source": [
    "# polymorphism\n",
    "# 1- overloading\n",
    "# 2-overriding------ not supported by python"
   ]
  },
  {
   "cell_type": "markdown",
   "id": "537ecc0f",
   "metadata": {},
   "source": [
    "# overloading- operator loading and function overloading"
   ]
  },
  {
   "cell_type": "code",
   "execution_count": 1,
   "id": "ac129b8a",
   "metadata": {},
   "outputs": [
    {
     "name": "stdout",
     "output_type": "stream",
     "text": [
      "3\n"
     ]
    }
   ],
   "source": [
    "a=1\n",
    "b=2\n",
    "c=a+b\n",
    "print(c)"
   ]
  },
  {
   "cell_type": "code",
   "execution_count": 2,
   "id": "af01ee4c",
   "metadata": {},
   "outputs": [
    {
     "name": "stdout",
     "output_type": "stream",
     "text": [
      "12\n"
     ]
    }
   ],
   "source": [
    "a='1'\n",
    "b='2'\n",
    "c=a+b\n",
    "print(c)"
   ]
  },
  {
   "cell_type": "code",
   "execution_count": 14,
   "id": "52291130",
   "metadata": {},
   "outputs": [],
   "source": [
    "#by oops--- operator overloading\n",
    "\n",
    "class op_L():\n",
    "    a=7\n",
    "    b=8\n",
    "    c=a+b\n",
    "    x='3'\n",
    "    y='hello'\n",
    "    z=x+y\n",
    "    \n",
    "op=op_L()"
   ]
  },
  {
   "cell_type": "code",
   "execution_count": 15,
   "id": "dcdb18ca",
   "metadata": {},
   "outputs": [
    {
     "data": {
      "text/plain": [
       "15"
      ]
     },
     "execution_count": 15,
     "metadata": {},
     "output_type": "execute_result"
    }
   ],
   "source": [
    "op.c"
   ]
  },
  {
   "cell_type": "code",
   "execution_count": 16,
   "id": "45123500",
   "metadata": {},
   "outputs": [
    {
     "data": {
      "text/plain": [
       "'3hello'"
      ]
     },
     "execution_count": 16,
     "metadata": {},
     "output_type": "execute_result"
    }
   ],
   "source": [
    "op.z\n"
   ]
  },
  {
   "cell_type": "code",
   "execution_count": 29,
   "id": "85f5f4b5",
   "metadata": {},
   "outputs": [],
   "source": [
    "# function overloading\n",
    "class fn_L:\n",
    "    def add(self,a=2,b=4):\n",
    "#         self.a=a\n",
    "#         self.b=b\n",
    "        c=a+b\n",
    "        return c\n",
    "    pass\n",
    "fn=fn_L()"
   ]
  },
  {
   "cell_type": "code",
   "execution_count": 30,
   "id": "2554afc5",
   "metadata": {},
   "outputs": [
    {
     "data": {
      "text/plain": [
       "6"
      ]
     },
     "execution_count": 30,
     "metadata": {},
     "output_type": "execute_result"
    }
   ],
   "source": [
    "fn.add()"
   ]
  },
  {
   "cell_type": "code",
   "execution_count": 31,
   "id": "a63f5924",
   "metadata": {},
   "outputs": [
    {
     "data": {
      "text/plain": [
       "'12'"
      ]
     },
     "execution_count": 31,
     "metadata": {},
     "output_type": "execute_result"
    }
   ],
   "source": [
    "fn.add('1','2')"
   ]
  },
  {
   "cell_type": "code",
   "execution_count": null,
   "id": "71f9e3f7",
   "metadata": {},
   "outputs": [],
   "source": []
  }
 ],
 "metadata": {
  "kernelspec": {
   "display_name": "Python 3 (ipykernel)",
   "language": "python",
   "name": "python3"
  },
  "language_info": {
   "codemirror_mode": {
    "name": "ipython",
    "version": 3
   },
   "file_extension": ".py",
   "mimetype": "text/x-python",
   "name": "python",
   "nbconvert_exporter": "python",
   "pygments_lexer": "ipython3",
   "version": "3.9.12"
  }
 },
 "nbformat": 4,
 "nbformat_minor": 5
}
