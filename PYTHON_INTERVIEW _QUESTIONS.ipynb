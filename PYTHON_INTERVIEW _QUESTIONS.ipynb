{
 "cells": [
  {
   "cell_type": "code",
   "execution_count": 1,
   "id": "9bfd91d5",
   "metadata": {},
   "outputs": [],
   "source": [
    "# 1.Difference Between append and insert in python\n",
    "\n",
    "# 2.Differentiate remove, del, and pop in python\n",
    "\n",
    "# 3.Explain the range function in python\n",
    "\n",
    "# 4.Difference between == and = operator in python\n",
    "\n",
    "# 5.How to reverse a string in python using indexing. Explain with example.\n",
    "\n",
    "# 6.Write a Program to print all prime numbers from 10-50.\n",
    "\n",
    "# 7.How to print sum of the numbers starting from 1 to 100\n",
    "\n",
    "# 8.What is the output, Suppose list1 is [1, 3, 2], What is list1 * 2?\n",
    "\n",
    "# 9.Can you write a program to find the average of numbers in a list in Python?\n",
    "\n",
    "# 10.WAP to check a number is positive , negative or zero.\n",
    "\n",
    "# 11.1WAP to check a number is divisible by 5 and 11 or not\n",
    "\n",
    "# 12.WAP to calculate profit & loss.\n",
    "\n",
    "# 13.WAP to Input the basic salary of employee & calculate its gross salary Basic Salary <= 10000 : HRA = 20%, DA = 80% Basic Salary <= 20000 : HRA = 25%, DA = 90% Basic Salary > 20000 : HRA = 30%, DA = 95%\n",
    "\n",
    "# 14.Input the electricity unit charge & calculate the total electric bill according to given condition.\n",
    "\n",
    "# For first 50 units Rs. 0.50/unit For next 100 units Rs. 0.75/unit For next 100 units Rs. 1.20/unit For unit above 250 Rs. 1.50/unit An additional surcharge of 20% is added to the bill\n",
    "\n",
    "# 15.WAP to Swap 2 numbers without using 3rd variable in python.\n",
    "\n",
    "# 16.WAP and find lcm of two numbers.\n",
    "\n",
    "# WAP to check the year is leap year or not .\n",
    "\n",
    "# 17.Write a program to reverse a number in Python?\n",
    "\n",
    "# 18.Write a program to find the sum of the digits of a number in Python?\n",
    "\n",
    "# 19.How to sort list of tuples.\n",
    "\n",
    "# lang_listtuple= [('C#',1), ('Go',7), ('Basic',8), ('Python',60)]\n",
    "\n",
    "# 20.WAP for simple & compound interest in python.\n",
    "\n",
    "# 21.WAP to delete set of keys in dict\n",
    "\n",
    "# Keys to delete à[‘name’,’age’]\n",
    "\n",
    "# animaldict = {\n",
    "\n",
    "# “name”: “Dog”,\n",
    "\n",
    "# “age”:5,\n",
    "\n",
    "# “Weight”: 4,\n",
    "\n",
    "# “Country”: “US”,\n",
    "\n",
    "# “City”:”California”"
   ]
  },
  {
   "cell_type": "code",
   "execution_count": 2,
   "id": "0b9a3811",
   "metadata": {},
   "outputs": [
    {
     "data": {
      "text/plain": [
       "'insert is also the method of the list used to add the element to the list but at a specefied index'"
      ]
     },
     "execution_count": 2,
     "metadata": {},
     "output_type": "execute_result"
    }
   ],
   "source": [
    "# 1.Difference Between append and insert in python\n",
    "'''append is a method of list used to add the element to the list at the end of the lis'''\n",
    "'''insert is also the method of the list used to add the element to the list but at a specefied index'''"
   ]
  },
  {
   "cell_type": "code",
   "execution_count": 7,
   "id": "73f03298",
   "metadata": {},
   "outputs": [
    {
     "data": {
      "text/plain": [
       "'pop is a method of list and remove the last availabe element from the list'"
      ]
     },
     "execution_count": 7,
     "metadata": {},
     "output_type": "execute_result"
    }
   ],
   "source": [
    "# 2.Differentiate remove and pop in python\n",
    "'''remove method remove the first occurence of the element'''\n",
    "'''pop is a method of list and remove the last availabe element from the list'''"
   ]
  },
  {
   "cell_type": "code",
   "execution_count": 8,
   "id": "80442ea7",
   "metadata": {},
   "outputs": [
    {
     "data": {
      "text/plain": [
       "'range function used to give a range from start to end-1 point or with the step value\\nsyntax: raneg(start, stop, step)'"
      ]
     },
     "execution_count": 8,
     "metadata": {},
     "output_type": "execute_result"
    }
   ],
   "source": [
    "# 3.Explain the range function in python\n",
    "'''range function used to give a range from start to end-1 point or with the step value\n",
    "syntax: raneg(start, stop, step)'''"
   ]
  },
  {
   "cell_type": "code",
   "execution_count": 9,
   "id": "75ecd15b",
   "metadata": {},
   "outputs": [
    {
     "data": {
      "text/plain": [
       "'== is a comparision operator but = is a assignment operator'"
      ]
     },
     "execution_count": 9,
     "metadata": {},
     "output_type": "execute_result"
    }
   ],
   "source": [
    "# 4.Difference between == and = operator in python\n",
    "'== is a comparision operator but = is a assignment operator'"
   ]
  },
  {
   "cell_type": "code",
   "execution_count": 10,
   "id": "5fde11d4",
   "metadata": {},
   "outputs": [
    {
     "name": "stdout",
     "output_type": "stream",
     "text": [
      "Enter the string : \"fgh\"\n",
      "The reversed string is :  \"hgf\"\n"
     ]
    }
   ],
   "source": [
    "# 5.How to reverse a string in python using indexing. Explain with example.\n",
    "s=input(\"Enter the string : \") # input \n",
    "s=s[::-1] # using slice operator for reversing and saving back to the variable\n",
    "print('The reversed string is : ',s)\n"
   ]
  },
  {
   "cell_type": "code",
   "execution_count": 15,
   "id": "3d5e356f",
   "metadata": {},
   "outputs": [
    {
     "name": "stdout",
     "output_type": "stream",
     "text": [
      "Not prime 10\n",
      "Prime 11\n",
      "Not prime 12\n",
      "Prime 13\n",
      "Not prime 14\n",
      "Not prime 15\n",
      "Not prime 16\n",
      "Prime 17\n",
      "Not prime 18\n",
      "Prime 19\n",
      "Not prime 20\n",
      "Not prime 21\n",
      "Not prime 22\n",
      "Prime 23\n",
      "Not prime 24\n",
      "Not prime 25\n",
      "Not prime 26\n",
      "Not prime 27\n",
      "Not prime 28\n",
      "Prime 29\n",
      "Not prime 30\n",
      "Prime 31\n",
      "Not prime 32\n",
      "Not prime 33\n",
      "Not prime 34\n",
      "Not prime 35\n",
      "Not prime 36\n",
      "Prime 37\n",
      "Not prime 38\n",
      "Not prime 39\n",
      "Not prime 40\n",
      "Prime 41\n",
      "Not prime 42\n",
      "Prime 43\n",
      "Not prime 44\n",
      "Not prime 45\n",
      "Not prime 46\n",
      "Prime 47\n",
      "Not prime 48\n",
      "Not prime 49\n",
      "Not prime 50\n"
     ]
    }
   ],
   "source": [
    "# 6.Write a Program to print all prime numbers from 10-50.\n",
    "for i in range(10,51):\n",
    "    for j in range(2,i):\n",
    "        if i%j==0:\n",
    "            print(\"Not prime\",i)\n",
    "            break\n",
    "    else:\n",
    "        print(\"Prime\",i)\n",
    "        "
   ]
  },
  {
   "cell_type": "code",
   "execution_count": 16,
   "id": "c912ca02",
   "metadata": {},
   "outputs": [
    {
     "name": "stdout",
     "output_type": "stream",
     "text": [
      "5050\n"
     ]
    }
   ],
   "source": [
    "# 7.How to print sum of the numbers starting from 1 to 100\n",
    "sum=0\n",
    "for i in range(100):\n",
    "    sum+=(i+1)\n",
    "print(sum)"
   ]
  },
  {
   "cell_type": "code",
   "execution_count": 17,
   "id": "c60fcc66",
   "metadata": {},
   "outputs": [
    {
     "name": "stdout",
     "output_type": "stream",
     "text": [
      "[1, 3, 2, 1, 3, 2]\n"
     ]
    }
   ],
   "source": [
    "# 8.What is the output, Suppose list1 is [1, 3, 2], What is list1 * 2?\n",
    "list1=[1,3,2]\n",
    "list1=list1*2\n",
    "print(list1)"
   ]
  },
  {
   "cell_type": "code",
   "execution_count": 21,
   "id": "35bf1bb9",
   "metadata": {},
   "outputs": [
    {
     "name": "stdout",
     "output_type": "stream",
     "text": [
      "3.5\n"
     ]
    }
   ],
   "source": [
    "# 9.Can you write a program to find the average of numbers in a list in Python?\n",
    "l=[1,2,3,4,5,6]\n",
    "avg=0\n",
    "for i in l:\n",
    "    avg+=i\n",
    "avg=avg/len(l)\n",
    "print(avg)"
   ]
  },
  {
   "cell_type": "code",
   "execution_count": 22,
   "id": "5c0e5da1",
   "metadata": {},
   "outputs": [
    {
     "name": "stdout",
     "output_type": "stream",
     "text": [
      "Enter the number : 89\n",
      "Positive :  89\n"
     ]
    }
   ],
   "source": [
    "# 10.WAP to check a number is positive , negative or zero.\n",
    "def check(num):\n",
    "    if num>0:\n",
    "        print(\"Positive : \",num)\n",
    "    elif num<0:\n",
    "        print(\"Negative : \",num)\n",
    "    else:\n",
    "        print(\"Zero : \",num)\n",
    "num=int(input(\"Enter the number : \"))\n",
    "check(num)"
   ]
  },
  {
   "cell_type": "code",
   "execution_count": 23,
   "id": "54f4ea18",
   "metadata": {},
   "outputs": [
    {
     "name": "stdout",
     "output_type": "stream",
     "text": [
      "Enter the number : 110\n",
      "yes it is divisible by 5 and 11 :  110\n"
     ]
    }
   ],
   "source": [
    "# 11 WAP to check a number is divisible by 5 and 11 or not\n",
    "def check(num):\n",
    "    if num%5==0 and num%11==0:\n",
    "        print(\"yes it is divisible by 5 and 11 : \",num)\n",
    "    else:\n",
    "        print(\"No it is not divisible by 5 and 11 : \",num)\n",
    "num=int(input(\"Enter the number : \"))\n",
    "check(num)"
   ]
  },
  {
   "cell_type": "code",
   "execution_count": 24,
   "id": "6ed302c6",
   "metadata": {},
   "outputs": [
    {
     "name": "stdout",
     "output_type": "stream",
     "text": [
      "Enter the selling price : 30\n",
      "Enter the cost price : 30\n",
      "No profit and no loss!!\n",
      "No profit and no loss!!\n"
     ]
    }
   ],
   "source": [
    "# 12.WAP to calculate profit & loss.\n",
    "def profit(s,c):\n",
    "    p=sell-cost\n",
    "    if p>0:\n",
    "        print(\"The profit is of rupees : \",p)\n",
    "    elif p<0:\n",
    "        print(\"No profit only loss!!\")\n",
    "    else:\n",
    "        print(\"No profit and no loss!!\")\n",
    "def loss(s,c):\n",
    "    l=c-s\n",
    "    if l>0:\n",
    "        print(\"The loss is of rupees : \",l)\n",
    "    elif l<0:\n",
    "        print(\"No loss only profit!!\")\n",
    "    else:\n",
    "        print(\"No profit and no loss!!\")\n",
    "    \n",
    "sell=int(input(\"Enter the selling price : \"))\n",
    "cost=int(input(\"Enter the cost price : \"))\n",
    "profit(sell,cost)\n",
    "loss(sell,cost)"
   ]
  },
  {
   "cell_type": "code",
   "execution_count": 25,
   "id": "37c288e1",
   "metadata": {},
   "outputs": [
    {
     "name": "stdout",
     "output_type": "stream",
     "text": [
      "Enter the number : 12\n",
      "Enter the number : 13\n",
      "The value you have entered :  12 13\n",
      "The value after reversing :  13 12\n"
     ]
    }
   ],
   "source": [
    "# 15.WAP to Swap 2 numbers without using 3rd variable in python.\n",
    "a=int(input(\"Enter the number : \"))\n",
    "b=int(input(\"Enter the number : \"))\n",
    "\n",
    "print(\"The value you have entered : \",a,b)\n",
    "\n",
    "a,b=b,a\n",
    "\n",
    "print(\"The value after reversing : \",a,b)"
   ]
  },
  {
   "cell_type": "code",
   "execution_count": 28,
   "id": "f96a4aef",
   "metadata": {},
   "outputs": [
    {
     "name": "stdout",
     "output_type": "stream",
     "text": [
      "Enter the year : 1999\n",
      "The year is not leap year :  1999\n"
     ]
    }
   ],
   "source": [
    "# WAP to check the year is leap year or not .\n",
    "year=int(input(\"Enter the year : \"))\n",
    "if (year%4==0 and year%100!=0) or (year%400==0):\n",
    "    print(\"The year is a leap year : \",year)\n",
    "else:\n",
    "    print(\"The year is not leap year : \",year)"
   ]
  },
  {
   "cell_type": "code",
   "execution_count": 51,
   "id": "00cf4471",
   "metadata": {},
   "outputs": [
    {
     "name": "stdout",
     "output_type": "stream",
     "text": [
      "Enter the number : 22\n",
      "4\n"
     ]
    }
   ],
   "source": [
    "# 18.Write a program to find the sum of the digits of a number in Python?\n",
    "def su(num):\n",
    "    summ=0\n",
    "    while num:\n",
    "        summ+=num%10\n",
    "        num=int(num/10)\n",
    "    print(summ)\n",
    "num=int(input(\"Enter the number : \"))\n",
    "su(num)"
   ]
  },
  {
   "cell_type": "code",
   "execution_count": 56,
   "id": "a3d4a6ec",
   "metadata": {},
   "outputs": [
    {
     "name": "stdout",
     "output_type": "stream",
     "text": [
      "[('Basic', 8), ('C#', 1), ('Go', 7), ('Python', 60)]\n"
     ]
    }
   ],
   "source": [
    "# 19.How to sort list of tuples.\n",
    "\n",
    "# lang_listtuple= [('C#',1), ('Go',7), ('Basic',8), ('Python',60)]\n",
    "lang_listtuple= [('C#',1), ('Go',7), ('Basic',8), ('Python',60)]\n",
    "lang_listtuple.sort()\n",
    "print(lang_listtuple)"
   ]
  },
  {
   "cell_type": "code",
   "execution_count": 63,
   "id": "fd258ce8",
   "metadata": {},
   "outputs": [],
   "source": [
    "# 21.WAP to delete set of keys in dict\n",
    "\n",
    "# Keys to delete à[‘name’,’age’]\n",
    "\n",
    "# animaldict = {\n",
    "\n",
    "# “name”: “Dog”,\n",
    "\n",
    "# “age”:5,\n",
    "\n",
    "# “Weight”: 4,\n",
    "\n",
    "# “Country”: “US”,\n",
    "\n",
    "# “City”:”California”\n"
   ]
  },
  {
   "cell_type": "code",
   "execution_count": null,
   "id": "9914bc06",
   "metadata": {},
   "outputs": [],
   "source": [
    "# 16.WAP and find lcm of two numbers.\n"
   ]
  }
 ],
 "metadata": {
  "kernelspec": {
   "display_name": "Python 3 (ipykernel)",
   "language": "python",
   "name": "python3"
  },
  "language_info": {
   "codemirror_mode": {
    "name": "ipython",
    "version": 3
   },
   "file_extension": ".py",
   "mimetype": "text/x-python",
   "name": "python",
   "nbconvert_exporter": "python",
   "pygments_lexer": "ipython3",
   "version": "3.9.12"
  }
 },
 "nbformat": 4,
 "nbformat_minor": 5
}
