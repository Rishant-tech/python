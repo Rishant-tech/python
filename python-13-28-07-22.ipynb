{
 "cells": [
  {
   "cell_type": "code",
   "execution_count": 2,
   "id": "c682c5bd",
   "metadata": {},
   "outputs": [
    {
     "name": "stdout",
     "output_type": "stream",
     "text": [
      "<__main__.empty object at 0x0000015CDFC0F910>\n"
     ]
    }
   ],
   "source": [
    "# wap to make a empty class\n",
    "\n",
    "class empty:\n",
    "    pass\n",
    "e=empty()\n",
    "print(e)"
   ]
  },
  {
   "cell_type": "markdown",
   "id": "6c7bb7d1",
   "metadata": {},
   "source": [
    "# encapsulation of data"
   ]
  },
  {
   "cell_type": "code",
   "execution_count": 3,
   "id": "1b27ef4b",
   "metadata": {},
   "outputs": [],
   "source": [
    "# diff b/w encap and abstraction"
   ]
  },
  {
   "cell_type": "code",
   "execution_count": 5,
   "id": "d715dd02",
   "metadata": {},
   "outputs": [],
   "source": [
    "# public\n",
    "# private\n",
    "# protected not supported in python\n"
   ]
  },
  {
   "cell_type": "code",
   "execution_count": 6,
   "id": "37d740d9",
   "metadata": {},
   "outputs": [
    {
     "data": {
      "text/plain": [
       "6"
      ]
     },
     "execution_count": 6,
     "metadata": {},
     "output_type": "execute_result"
    }
   ],
   "source": [
    "# public \n",
    "class x:\n",
    "    def fun(self):\n",
    "        a=6\n",
    "        return a\n",
    "s=x()\n",
    "s.fun()"
   ]
  },
  {
   "cell_type": "code",
   "execution_count": 11,
   "id": "d5322410",
   "metadata": {},
   "outputs": [
    {
     "data": {
      "text/plain": [
       "22"
      ]
     },
     "execution_count": 11,
     "metadata": {},
     "output_type": "execute_result"
    }
   ],
   "source": [
    "# private\n",
    "\n",
    "class fun:\n",
    "    def fu(self,a,b):\n",
    "        return a+b\n",
    "    def __fu1(self,c):\n",
    "        return c\n",
    "f=fun()\n",
    "f.fu(10,12)"
   ]
  },
  {
   "cell_type": "code",
   "execution_count": 17,
   "id": "1e476c84",
   "metadata": {},
   "outputs": [
    {
     "ename": "AttributeError",
     "evalue": "'fun' object has no attribute 'fu1'",
     "output_type": "error",
     "traceback": [
      "\u001b[1;31m---------------------------------------------------------------------------\u001b[0m",
      "\u001b[1;31mAttributeError\u001b[0m                            Traceback (most recent call last)",
      "Input \u001b[1;32mIn [17]\u001b[0m, in \u001b[0;36m<cell line: 1>\u001b[1;34m()\u001b[0m\n\u001b[1;32m----> 1\u001b[0m \u001b[43mf\u001b[49m\u001b[38;5;241;43m.\u001b[39;49m\u001b[43mfu1\u001b[49m(\u001b[38;5;241m3\u001b[39m)\n",
      "\u001b[1;31mAttributeError\u001b[0m: 'fun' object has no attribute 'fu1'"
     ]
    }
   ],
   "source": [
    "f.fu1(3)"
   ]
  },
  {
   "cell_type": "code",
   "execution_count": null,
   "id": "d7cb19f1",
   "metadata": {},
   "outputs": [],
   "source": []
  },
  {
   "cell_type": "code",
   "execution_count": null,
   "id": "6396a8fb",
   "metadata": {},
   "outputs": [],
   "source": []
  }
 ],
 "metadata": {
  "kernelspec": {
   "display_name": "Python 3 (ipykernel)",
   "language": "python",
   "name": "python3"
  },
  "language_info": {
   "codemirror_mode": {
    "name": "ipython",
    "version": 3
   },
   "file_extension": ".py",
   "mimetype": "text/x-python",
   "name": "python",
   "nbconvert_exporter": "python",
   "pygments_lexer": "ipython3",
   "version": "3.9.12"
  }
 },
 "nbformat": 4,
 "nbformat_minor": 5
}
