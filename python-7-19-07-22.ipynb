{
 "cells": [
  {
   "cell_type": "code",
   "execution_count": 1,
   "id": "d34308d9",
   "metadata": {},
   "outputs": [],
   "source": [
    "# wap to add number in tuple."
   ]
  },
  {
   "cell_type": "code",
   "execution_count": 2,
   "id": "23dc907b",
   "metadata": {},
   "outputs": [],
   "source": [
    "a=(1,)"
   ]
  },
  {
   "cell_type": "code",
   "execution_count": 3,
   "id": "d65263c8",
   "metadata": {},
   "outputs": [
    {
     "ename": "AttributeError",
     "evalue": "'tuple' object has no attribute 'append'",
     "output_type": "error",
     "traceback": [
      "\u001b[1;31m---------------------------------------------------------------------------\u001b[0m",
      "\u001b[1;31mAttributeError\u001b[0m                            Traceback (most recent call last)",
      "Input \u001b[1;32mIn [3]\u001b[0m, in \u001b[0;36m<cell line: 1>\u001b[1;34m()\u001b[0m\n\u001b[1;32m----> 1\u001b[0m \u001b[43ma\u001b[49m\u001b[38;5;241;43m.\u001b[39;49m\u001b[43mappend\u001b[49m(\u001b[38;5;241m100\u001b[39m)\n",
      "\u001b[1;31mAttributeError\u001b[0m: 'tuple' object has no attribute 'append'"
     ]
    }
   ],
   "source": [
    "a.append(100)"
   ]
  },
  {
   "cell_type": "code",
   "execution_count": 7,
   "id": "a85ef697",
   "metadata": {},
   "outputs": [],
   "source": [
    "a=list(a)"
   ]
  },
  {
   "cell_type": "code",
   "execution_count": 8,
   "id": "9ed385d8",
   "metadata": {},
   "outputs": [
    {
     "name": "stdout",
     "output_type": "stream",
     "text": [
      "[1, 100, 100]\n",
      "<class 'list'>\n",
      "<class 'tuple'>\n",
      "(1, 100, 100)\n"
     ]
    }
   ],
   "source": [
    "a.append(100)\n",
    "\n",
    "print(a)\n",
    "print(type(a))\n",
    "a=tuple(a)\n",
    "print(type(a))\n",
    "\n",
    "print(a)\n"
   ]
  },
  {
   "cell_type": "code",
   "execution_count": 11,
   "id": "38f5a506",
   "metadata": {},
   "outputs": [],
   "source": [
    "# wap to find an index of an element of a tuple"
   ]
  },
  {
   "cell_type": "code",
   "execution_count": 23,
   "id": "bfbbd162",
   "metadata": {},
   "outputs": [],
   "source": [
    "x=(1,2,3,4,5,6,7)"
   ]
  },
  {
   "cell_type": "code",
   "execution_count": 24,
   "id": "5cc862cf",
   "metadata": {},
   "outputs": [
    {
     "data": {
      "text/plain": [
       "1"
      ]
     },
     "execution_count": 24,
     "metadata": {},
     "output_type": "execute_result"
    }
   ],
   "source": [
    "x.index(2)"
   ]
  },
  {
   "cell_type": "code",
   "execution_count": 25,
   "id": "d2af3c4b",
   "metadata": {},
   "outputs": [],
   "source": [
    "# wap to reverse a tuple"
   ]
  },
  {
   "cell_type": "code",
   "execution_count": 29,
   "id": "caad7ebc",
   "metadata": {},
   "outputs": [
    {
     "data": {
      "text/plain": [
       "(7, 6, 5, 4, 3, 2, 1)"
      ]
     },
     "execution_count": 29,
     "metadata": {},
     "output_type": "execute_result"
    }
   ],
   "source": [
    "# x=list(x)\n",
    "# x=x.reverse()\n",
    "# x=tuple(x)\n",
    "\n",
    "# print(x)\n",
    "\n",
    "x[::-1]\n",
    "\n"
   ]
  },
  {
   "cell_type": "code",
   "execution_count": 16,
   "id": "6f2edcd4",
   "metadata": {},
   "outputs": [
    {
     "data": {
      "text/plain": [
       "['__add__',\n",
       " '__class__',\n",
       " '__class_getitem__',\n",
       " '__contains__',\n",
       " '__delattr__',\n",
       " '__dir__',\n",
       " '__doc__',\n",
       " '__eq__',\n",
       " '__format__',\n",
       " '__ge__',\n",
       " '__getattribute__',\n",
       " '__getitem__',\n",
       " '__getnewargs__',\n",
       " '__gt__',\n",
       " '__hash__',\n",
       " '__init__',\n",
       " '__init_subclass__',\n",
       " '__iter__',\n",
       " '__le__',\n",
       " '__len__',\n",
       " '__lt__',\n",
       " '__mul__',\n",
       " '__ne__',\n",
       " '__new__',\n",
       " '__reduce__',\n",
       " '__reduce_ex__',\n",
       " '__repr__',\n",
       " '__rmul__',\n",
       " '__setattr__',\n",
       " '__sizeof__',\n",
       " '__str__',\n",
       " '__subclasshook__',\n",
       " 'count',\n",
       " 'index']"
      ]
     },
     "execution_count": 16,
     "metadata": {},
     "output_type": "execute_result"
    }
   ],
   "source": [
    "dir(x)"
   ]
  },
  {
   "cell_type": "code",
   "execution_count": 30,
   "id": "d0c34909",
   "metadata": {},
   "outputs": [],
   "source": [
    "# wap to calculaet product multiplying all the number of a given tuple\n",
    "\n",
    "\n",
    "\n",
    "a=(4,3,2,2,-1,18)"
   ]
  },
  {
   "cell_type": "code",
   "execution_count": 34,
   "id": "d1d92bbf",
   "metadata": {},
   "outputs": [
    {
     "name": "stdout",
     "output_type": "stream",
     "text": [
      "20\n",
      "15\n",
      "10\n",
      "10\n",
      "-5\n",
      "90\n"
     ]
    }
   ],
   "source": [
    "y=5\n",
    "for i in a:\n",
    "    print(y*i)"
   ]
  },
  {
   "cell_type": "markdown",
   "id": "fb915bd9",
   "metadata": {},
   "source": [
    "# dictionary"
   ]
  },
  {
   "cell_type": "code",
   "execution_count": 35,
   "id": "1facfe54",
   "metadata": {},
   "outputs": [],
   "source": [
    "dic= {}"
   ]
  },
  {
   "cell_type": "code",
   "execution_count": 36,
   "id": "5a34c552",
   "metadata": {},
   "outputs": [
    {
     "data": {
      "text/plain": [
       "dict"
      ]
     },
     "execution_count": 36,
     "metadata": {},
     "output_type": "execute_result"
    }
   ],
   "source": [
    "type(dic)"
   ]
  },
  {
   "cell_type": "code",
   "execution_count": 39,
   "id": "66c0fbd3",
   "metadata": {},
   "outputs": [],
   "source": [
    "dic={'name':'rishant',\n",
    "    'age':21,\n",
    "    'marks':80\n",
    "    }"
   ]
  },
  {
   "cell_type": "code",
   "execution_count": 43,
   "id": "0e90c4f3",
   "metadata": {},
   "outputs": [
    {
     "name": "stdout",
     "output_type": "stream",
     "text": [
      "{'name': 'rishant', 'age': 21, 'marks': 80}\n"
     ]
    },
    {
     "data": {
      "text/plain": [
       "dict"
      ]
     },
     "execution_count": 43,
     "metadata": {},
     "output_type": "execute_result"
    }
   ],
   "source": [
    "print(dic)\n",
    "type(dic)"
   ]
  },
  {
   "cell_type": "code",
   "execution_count": 44,
   "id": "81b715fb",
   "metadata": {},
   "outputs": [
    {
     "data": {
      "text/plain": [
       "dict_keys(['name', 'age', 'marks'])"
      ]
     },
     "execution_count": 44,
     "metadata": {},
     "output_type": "execute_result"
    }
   ],
   "source": [
    "dic.keys()"
   ]
  },
  {
   "cell_type": "code",
   "execution_count": 46,
   "id": "959f69d1",
   "metadata": {},
   "outputs": [
    {
     "data": {
      "text/plain": [
       "dict_values(['rishant', 21, 80])"
      ]
     },
     "execution_count": 46,
     "metadata": {},
     "output_type": "execute_result"
    }
   ],
   "source": [
    "dic.values()"
   ]
  },
  {
   "cell_type": "code",
   "execution_count": 56,
   "id": "de7a5a06",
   "metadata": {},
   "outputs": [],
   "source": [
    "dic={'name':['rishant','fdsfsdfsd','dsafsdf'],\n",
    "    'age':[21,32,42],\n",
    "    'marks':[12,34534,5465]\n",
    "    }"
   ]
  },
  {
   "cell_type": "code",
   "execution_count": 57,
   "id": "bf70fb53",
   "metadata": {},
   "outputs": [
    {
     "data": {
      "text/plain": [
       "{'name': ['rishant', 'fdsfsdfsd', 'dsafsdf'],\n",
       " 'age': [21, 32, 42],\n",
       " 'marks': [12, 34534, 5465]}"
      ]
     },
     "execution_count": 57,
     "metadata": {},
     "output_type": "execute_result"
    }
   ],
   "source": [
    "dic"
   ]
  },
  {
   "cell_type": "code",
   "execution_count": 58,
   "id": "c3eb712f",
   "metadata": {},
   "outputs": [
    {
     "data": {
      "text/plain": [
       "['rishant', 'fdsfsdfsd', 'dsafsdf']"
      ]
     },
     "execution_count": 58,
     "metadata": {},
     "output_type": "execute_result"
    }
   ],
   "source": [
    "dic['name'][:]"
   ]
  },
  {
   "cell_type": "code",
   "execution_count": 59,
   "id": "00e471fe",
   "metadata": {},
   "outputs": [
    {
     "data": {
      "text/plain": [
       "[21, 32, 42]"
      ]
     },
     "execution_count": 59,
     "metadata": {},
     "output_type": "execute_result"
    }
   ],
   "source": [
    "dic['age'][:]"
   ]
  },
  {
   "cell_type": "code",
   "execution_count": 60,
   "id": "cfe5afb4",
   "metadata": {},
   "outputs": [
    {
     "data": {
      "text/plain": [
       "'rishant'"
      ]
     },
     "execution_count": 60,
     "metadata": {},
     "output_type": "execute_result"
    }
   ],
   "source": [
    "dic['name'][0]"
   ]
  },
  {
   "cell_type": "code",
   "execution_count": 61,
   "id": "32c43415",
   "metadata": {},
   "outputs": [
    {
     "data": {
      "text/plain": [
       "21"
      ]
     },
     "execution_count": 61,
     "metadata": {},
     "output_type": "execute_result"
    }
   ],
   "source": [
    "dic['age'][0]"
   ]
  },
  {
   "cell_type": "code",
   "execution_count": 62,
   "id": "5fbd9a35",
   "metadata": {},
   "outputs": [],
   "source": [
    "dic['age'][2]=22"
   ]
  },
  {
   "cell_type": "code",
   "execution_count": 63,
   "id": "f7051f80",
   "metadata": {},
   "outputs": [
    {
     "data": {
      "text/plain": [
       "{'name': ['rishant', 'fdsfsdfsd', 'dsafsdf'],\n",
       " 'age': [21, 32, 22],\n",
       " 'marks': [12, 34534, 5465]}"
      ]
     },
     "execution_count": 63,
     "metadata": {},
     "output_type": "execute_result"
    }
   ],
   "source": [
    "dic"
   ]
  },
  {
   "cell_type": "code",
   "execution_count": 64,
   "id": "27a4ce55",
   "metadata": {},
   "outputs": [],
   "source": [
    "dic={'name': [('rishant',1,2,3,4), 'fdsfsdfsd', 'dsafsdf'],\n",
    " 'age': [21, 32, 22],\n",
    " 'marks': [12, 34534, 5465]}"
   ]
  },
  {
   "cell_type": "code",
   "execution_count": 65,
   "id": "159ebeae",
   "metadata": {},
   "outputs": [
    {
     "data": {
      "text/plain": [
       "'rishant'"
      ]
     },
     "execution_count": 65,
     "metadata": {},
     "output_type": "execute_result"
    }
   ],
   "source": [
    "dic['name'][0][0]"
   ]
  },
  {
   "cell_type": "code",
   "execution_count": 78,
   "id": "7aad0c22",
   "metadata": {},
   "outputs": [
    {
     "name": "stdout",
     "output_type": "stream",
     "text": [
      "{'name': 'A', 'age': 23, 0: '1', '0': 'hello', 1: '0'}\n"
     ]
    }
   ],
   "source": [
    "x={\n",
    "    'name':'A',\n",
    "    'age':23,\n",
    "    0:1,\n",
    "    0:\"1\",\n",
    "    '0':'hello',\n",
    "    1:0,\n",
    "    1:'0'\n",
    "}\n",
    "\n",
    "print(x)"
   ]
  },
  {
   "cell_type": "code",
   "execution_count": 79,
   "id": "358f0fb6",
   "metadata": {},
   "outputs": [],
   "source": [
    "#wap to make a dictionary"
   ]
  },
  {
   "cell_type": "code",
   "execution_count": 82,
   "id": "aceab638",
   "metadata": {},
   "outputs": [],
   "source": [
    "di={\n",
    "    'dc':{\n",
    "        'name':'rishant'\n",
    "    },\n",
    "    'age':23\n",
    "    \n",
    "}"
   ]
  },
  {
   "cell_type": "code",
   "execution_count": 83,
   "id": "2bf8f942",
   "metadata": {},
   "outputs": [
    {
     "data": {
      "text/plain": [
       "{'dc': {'name': 'rishant'}, 'age': 23}"
      ]
     },
     "execution_count": 83,
     "metadata": {},
     "output_type": "execute_result"
    }
   ],
   "source": [
    "di"
   ]
  },
  {
   "cell_type": "code",
   "execution_count": 87,
   "id": "1285d832",
   "metadata": {},
   "outputs": [
    {
     "data": {
      "text/plain": [
       "'rishant'"
      ]
     },
     "execution_count": 87,
     "metadata": {},
     "output_type": "execute_result"
    }
   ],
   "source": [
    "di['dc']['name']"
   ]
  },
  {
   "cell_type": "code",
   "execution_count": null,
   "id": "66d73392",
   "metadata": {},
   "outputs": [],
   "source": []
  }
 ],
 "metadata": {
  "kernelspec": {
   "display_name": "Python 3 (ipykernel)",
   "language": "python",
   "name": "python3"
  },
  "language_info": {
   "codemirror_mode": {
    "name": "ipython",
    "version": 3
   },
   "file_extension": ".py",
   "mimetype": "text/x-python",
   "name": "python",
   "nbconvert_exporter": "python",
   "pygments_lexer": "ipython3",
   "version": "3.9.12"
  }
 },
 "nbformat": 4,
 "nbformat_minor": 5
}
